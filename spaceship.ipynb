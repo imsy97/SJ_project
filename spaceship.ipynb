{
 "cells": [
  {
   "cell_type": "markdown",
   "id": "1d64cf03-e5c9-412e-bbfd-01658a02381d",
   "metadata": {
    "tags": []
   },
   "source": [
    "# Spaceship Prediction\n",
    "\n",
    "The purpose of this project is to predict which passengers were transported by the anomaly. So, this prediction is for Classification problem.\n",
    "\n",
    "Evaluation should be used Accuracy.\n",
    "\n",
    "---\n",
    "\n",
    "**Then let's get start!!**"
   ]
  },
  {
   "cell_type": "markdown",
   "id": "c264fd75-c0fd-41a7-916b-7621d4305073",
   "metadata": {},
   "source": [
    "## Import Data and libraries\n"
   ]
  },
  {
   "cell_type": "code",
   "execution_count": 2,
   "id": "c7d01f31-a511-49a9-8590-6d839e06bc84",
   "metadata": {},
   "outputs": [],
   "source": [
    "# importing libraries\n",
    "\n",
    "import numpy as np\n",
    "import pandas as pd\n",
    "import seaborn as sns\n",
    "import matplotlib.pyplot as plt\n",
    "import plotly.express as px\n",
    "import plotly.graph_objects as go\n",
    "from plotly.subplots import make_subplots\n",
    "import warnings\n",
    "warnings.filterwarnings('ignore')\n",
    "pd.set_option('display.max_columns', None) # 보여지는 최대 칼럼 수 지정할 수 있음.\n",
    "pd.options.display.max_seq_items = 8000 \n",
    "pd.options.display.max_rows = 8000\n",
    "\n",
    "\n",
    "# importing the data : using function\n",
    "def read_data():\n",
    "    train_data = pd.read_csv('data/spaceship/train.csv')\n",
    "    test_data = pd.read_csv('data/spaceship/test.csv')\n",
    "    return train_data, test_data\n",
    "    "
   ]
  },
  {
   "cell_type": "code",
   "execution_count": 3,
   "id": "c18dad78-0bf4-4043-8d2f-a6679dc4d540",
   "metadata": {},
   "outputs": [],
   "source": [
    "train_data, test_data = read_data()"
   ]
  },
  {
   "cell_type": "markdown",
   "id": "886ab3d8-c6a8-4120-b447-03569997386e",
   "metadata": {},
   "source": [
    "## Explore the data"
   ]
  },
  {
   "cell_type": "code",
   "execution_count": 4,
   "id": "2476fa8a-7503-400b-9cd5-d36267692f02",
   "metadata": {},
   "outputs": [
    {
     "data": {
      "text/html": [
       "<div>\n",
       "<style scoped>\n",
       "    .dataframe tbody tr th:only-of-type {\n",
       "        vertical-align: middle;\n",
       "    }\n",
       "\n",
       "    .dataframe tbody tr th {\n",
       "        vertical-align: top;\n",
       "    }\n",
       "\n",
       "    .dataframe thead th {\n",
       "        text-align: right;\n",
       "    }\n",
       "</style>\n",
       "<table border=\"1\" class=\"dataframe\">\n",
       "  <thead>\n",
       "    <tr style=\"text-align: right;\">\n",
       "      <th></th>\n",
       "      <th>PassengerId</th>\n",
       "      <th>HomePlanet</th>\n",
       "      <th>CryoSleep</th>\n",
       "      <th>Cabin</th>\n",
       "      <th>Destination</th>\n",
       "      <th>Age</th>\n",
       "      <th>VIP</th>\n",
       "      <th>RoomService</th>\n",
       "      <th>FoodCourt</th>\n",
       "      <th>ShoppingMall</th>\n",
       "      <th>Spa</th>\n",
       "      <th>VRDeck</th>\n",
       "      <th>Name</th>\n",
       "      <th>Transported</th>\n",
       "    </tr>\n",
       "  </thead>\n",
       "  <tbody>\n",
       "    <tr>\n",
       "      <th>0</th>\n",
       "      <td>0001_01</td>\n",
       "      <td>Europa</td>\n",
       "      <td>False</td>\n",
       "      <td>B/0/P</td>\n",
       "      <td>TRAPPIST-1e</td>\n",
       "      <td>39.0</td>\n",
       "      <td>False</td>\n",
       "      <td>0.0</td>\n",
       "      <td>0.0</td>\n",
       "      <td>0.0</td>\n",
       "      <td>0.0</td>\n",
       "      <td>0.0</td>\n",
       "      <td>Maham Ofracculy</td>\n",
       "      <td>False</td>\n",
       "    </tr>\n",
       "    <tr>\n",
       "      <th>1</th>\n",
       "      <td>0002_01</td>\n",
       "      <td>Earth</td>\n",
       "      <td>False</td>\n",
       "      <td>F/0/S</td>\n",
       "      <td>TRAPPIST-1e</td>\n",
       "      <td>24.0</td>\n",
       "      <td>False</td>\n",
       "      <td>109.0</td>\n",
       "      <td>9.0</td>\n",
       "      <td>25.0</td>\n",
       "      <td>549.0</td>\n",
       "      <td>44.0</td>\n",
       "      <td>Juanna Vines</td>\n",
       "      <td>True</td>\n",
       "    </tr>\n",
       "    <tr>\n",
       "      <th>2</th>\n",
       "      <td>0003_01</td>\n",
       "      <td>Europa</td>\n",
       "      <td>False</td>\n",
       "      <td>A/0/S</td>\n",
       "      <td>TRAPPIST-1e</td>\n",
       "      <td>58.0</td>\n",
       "      <td>True</td>\n",
       "      <td>43.0</td>\n",
       "      <td>3576.0</td>\n",
       "      <td>0.0</td>\n",
       "      <td>6715.0</td>\n",
       "      <td>49.0</td>\n",
       "      <td>Altark Susent</td>\n",
       "      <td>False</td>\n",
       "    </tr>\n",
       "    <tr>\n",
       "      <th>3</th>\n",
       "      <td>0003_02</td>\n",
       "      <td>Europa</td>\n",
       "      <td>False</td>\n",
       "      <td>A/0/S</td>\n",
       "      <td>TRAPPIST-1e</td>\n",
       "      <td>33.0</td>\n",
       "      <td>False</td>\n",
       "      <td>0.0</td>\n",
       "      <td>1283.0</td>\n",
       "      <td>371.0</td>\n",
       "      <td>3329.0</td>\n",
       "      <td>193.0</td>\n",
       "      <td>Solam Susent</td>\n",
       "      <td>False</td>\n",
       "    </tr>\n",
       "    <tr>\n",
       "      <th>4</th>\n",
       "      <td>0004_01</td>\n",
       "      <td>Earth</td>\n",
       "      <td>False</td>\n",
       "      <td>F/1/S</td>\n",
       "      <td>TRAPPIST-1e</td>\n",
       "      <td>16.0</td>\n",
       "      <td>False</td>\n",
       "      <td>303.0</td>\n",
       "      <td>70.0</td>\n",
       "      <td>151.0</td>\n",
       "      <td>565.0</td>\n",
       "      <td>2.0</td>\n",
       "      <td>Willy Santantines</td>\n",
       "      <td>True</td>\n",
       "    </tr>\n",
       "  </tbody>\n",
       "</table>\n",
       "</div>"
      ],
      "text/plain": [
       "  PassengerId HomePlanet CryoSleep  Cabin  Destination   Age    VIP  \\\n",
       "0     0001_01     Europa     False  B/0/P  TRAPPIST-1e  39.0  False   \n",
       "1     0002_01      Earth     False  F/0/S  TRAPPIST-1e  24.0  False   \n",
       "2     0003_01     Europa     False  A/0/S  TRAPPIST-1e  58.0   True   \n",
       "3     0003_02     Europa     False  A/0/S  TRAPPIST-1e  33.0  False   \n",
       "4     0004_01      Earth     False  F/1/S  TRAPPIST-1e  16.0  False   \n",
       "\n",
       "   RoomService  FoodCourt  ShoppingMall     Spa  VRDeck               Name  \\\n",
       "0          0.0        0.0           0.0     0.0     0.0    Maham Ofracculy   \n",
       "1        109.0        9.0          25.0   549.0    44.0       Juanna Vines   \n",
       "2         43.0     3576.0           0.0  6715.0    49.0      Altark Susent   \n",
       "3          0.0     1283.0         371.0  3329.0   193.0       Solam Susent   \n",
       "4        303.0       70.0         151.0   565.0     2.0  Willy Santantines   \n",
       "\n",
       "   Transported  \n",
       "0        False  \n",
       "1         True  \n",
       "2        False  \n",
       "3        False  \n",
       "4         True  "
      ]
     },
     "execution_count": 4,
     "metadata": {},
     "output_type": "execute_result"
    }
   ],
   "source": [
    "# exploring forest of the data\n",
    "train_data.head()"
   ]
  },
  {
   "cell_type": "code",
   "execution_count": 5,
   "id": "c4f99ce4-16e8-4f9d-8912-80aa56de0d55",
   "metadata": {},
   "outputs": [
    {
     "name": "stdout",
     "output_type": "stream",
     "text": [
      "<class 'pandas.core.frame.DataFrame'>\n",
      "RangeIndex: 8693 entries, 0 to 8692\n",
      "Data columns (total 14 columns):\n",
      " #   Column        Non-Null Count  Dtype  \n",
      "---  ------        --------------  -----  \n",
      " 0   PassengerId   8693 non-null   object \n",
      " 1   HomePlanet    8492 non-null   object \n",
      " 2   CryoSleep     8476 non-null   object \n",
      " 3   Cabin         8494 non-null   object \n",
      " 4   Destination   8511 non-null   object \n",
      " 5   Age           8514 non-null   float64\n",
      " 6   VIP           8490 non-null   object \n",
      " 7   RoomService   8512 non-null   float64\n",
      " 8   FoodCourt     8510 non-null   float64\n",
      " 9   ShoppingMall  8485 non-null   float64\n",
      " 10  Spa           8510 non-null   float64\n",
      " 11  VRDeck        8505 non-null   float64\n",
      " 12  Name          8493 non-null   object \n",
      " 13  Transported   8693 non-null   bool   \n",
      "dtypes: bool(1), float64(6), object(7)\n",
      "memory usage: 891.5+ KB\n"
     ]
    }
   ],
   "source": [
    "train_data.info()"
   ]
  },
  {
   "cell_type": "markdown",
   "id": "07ac8407-d53e-4006-a210-c51c85d5125f",
   "metadata": {},
   "source": [
    "### Explore the feature\n",
    "\n",
    "- PasssengerId : 승객 고유 아이디(문자열)\n",
    "- HomePlanet : 승객의 출신 행성(문자열) --> **범주형?**\n",
    "- CryoSleep : 동면머신을 사용했는지의 여부(문자열) --> **False/True의 값을 가지므로 범주형**\n",
    "- Cabin : 승객이 어디서 머물고 있는지를 나타냄(문자열) --> deck/num/side , **해당열을 분리해야할지 고민할 필요, 범주형**\n",
    "- Destination : 승객의 목적지 행성(문자열) --> **분류가 될 수도 있음**\n",
    "- Age : 승객의 나이(실수)\n",
    "- VIP : vip 고객인지 아닌지의 여부(문자열) --> **False/True 의 값을 가지므로 범주형**\n",
    "- RoomService, FoodCourt, ShoppingMall, Spa, VRDeck : 승객들이 해당 서비스를 얼마나 사용했는지를 나타냄(모두 실수)\n",
    "- Name : 승객의 이름(문자열)\n",
    "- Transported : 레이블값.(boolean) 다른 차원으로 옮겨졌는지의 여부(False/True : 이진분류)"
   ]
  },
  {
   "cell_type": "markdown",
   "id": "b237ae9f-04da-409e-b6ba-023597908a88",
   "metadata": {},
   "source": [
    "> 시각화를 위해서 문자열인 열들을 정수형으로 바꿔주도록 한다."
   ]
  },
  {
   "cell_type": "code",
   "execution_count": 6,
   "id": "64c69a10-c561-4b4a-8744-ede934760f55",
   "metadata": {},
   "outputs": [],
   "source": [
    "# 레이블값부터 숫자형으로 바꿔준다.\n",
    "train_data['Transported'] = train_data['Transported'].astype('int')"
   ]
  },
  {
   "cell_type": "code",
   "execution_count": 7,
   "id": "71814512-ad9b-4312-a2aa-8d4760851144",
   "metadata": {},
   "outputs": [
    {
     "name": "stdout",
     "output_type": "stream",
     "text": [
      "Train data shape =  (8693, 14)\n",
      "Test data shape =  (4277, 13)\n"
     ]
    }
   ],
   "source": [
    "# 학습 데이터와 테스트 데이터의 데이터개수, 그리고 피처 수를 확인해보자. (.shape 활용)\n",
    "\n",
    "print('Train data shape = ', train_data.shape)\n",
    "print('Test data shape = ', test_data.shape)"
   ]
  },
  {
   "cell_type": "markdown",
   "id": "16473252-5d8b-460d-aa32-29f7c5699699",
   "metadata": {},
   "source": [
    "```\n",
    "대략적으로 학습 데이터가 테스트 데이터보다 2배 많은 것을 확인했다.\n",
    "```"
   ]
  },
  {
   "cell_type": "markdown",
   "id": "bd35487c-3a52-4e9c-b29b-1102653821e8",
   "metadata": {},
   "source": [
    "### **Explore Missing data**"
   ]
  },
  {
   "cell_type": "code",
   "execution_count": 8,
   "id": "b045c98e-8983-4459-8b60-eef1132b0d7b",
   "metadata": {},
   "outputs": [
    {
     "name": "stdout",
     "output_type": "stream",
     "text": [
      "Missed Data in train data :\n",
      "PassengerId       0\n",
      "HomePlanet      201\n",
      "CryoSleep       217\n",
      "Cabin           199\n",
      "Destination     182\n",
      "Age             179\n",
      "VIP             203\n",
      "RoomService     181\n",
      "FoodCourt       183\n",
      "ShoppingMall    208\n",
      "Spa             183\n",
      "VRDeck          188\n",
      "Name            200\n",
      "Transported       0\n",
      "dtype: int64\n",
      "--------------------------------------------------\n",
      "Missed data in test data : \n",
      "PassengerId       0\n",
      "HomePlanet       87\n",
      "CryoSleep        93\n",
      "Cabin           100\n",
      "Destination      92\n",
      "Age              91\n",
      "VIP              93\n",
      "RoomService      82\n",
      "FoodCourt       106\n",
      "ShoppingMall     98\n",
      "Spa             101\n",
      "VRDeck           80\n",
      "Name             94\n",
      "dtype: int64\n"
     ]
    }
   ],
   "source": [
    "print('Missed Data in train data :')\n",
    "print(train_data.isnull().sum())\n",
    "print('-' * 50)\n",
    "print('Missed data in test data : ')\n",
    "print(test_data.isnull().sum())"
   ]
  },
  {
   "cell_type": "markdown",
   "id": "3f114a04-ed9e-4726-b4e0-c2573fe33738",
   "metadata": {},
   "source": [
    "#### **<일반적인 결측치 처리 가이드라인>**\n",
    "\n",
    "- 10% 미만 : 삭제 or 대치(imputation)\n",
    "- 10 ~ 20% : **hot deck(이전의 자료 -> 해당 자료 추정)** or **regression** or **model based imputation**\n",
    "- 20 ~ 50% : **regression** or **model based imputataion**\n",
    "- 50% 이상 : 해당 칼럼 제거\n",
    "\n",
    "> 참고로 결측치를 그냥 제거하는 경우는 거의 없다고 한다.\n",
    "\n",
    "- 대치 값 종류\n",
    "   - 최빈값\n",
    "   - 중앙값\n",
    "   - 평균\n",
    "   - 조건부 대치\n",
    "   - 회귀분석 이용한 대치"
   ]
  },
  {
   "cell_type": "code",
   "execution_count": 9,
   "id": "22f6a63b-8b44-4881-afe7-c1341ea8bb22",
   "metadata": {},
   "outputs": [
    {
     "data": {
      "text/html": [
       "<div>\n",
       "<style scoped>\n",
       "    .dataframe tbody tr th:only-of-type {\n",
       "        vertical-align: middle;\n",
       "    }\n",
       "\n",
       "    .dataframe tbody tr th {\n",
       "        vertical-align: top;\n",
       "    }\n",
       "\n",
       "    .dataframe thead th {\n",
       "        text-align: right;\n",
       "    }\n",
       "</style>\n",
       "<table border=\"1\" class=\"dataframe\">\n",
       "  <thead>\n",
       "    <tr style=\"text-align: right;\">\n",
       "      <th></th>\n",
       "      <th>Age</th>\n",
       "      <th>RoomService</th>\n",
       "      <th>FoodCourt</th>\n",
       "      <th>ShoppingMall</th>\n",
       "      <th>Spa</th>\n",
       "      <th>VRDeck</th>\n",
       "      <th>Transported</th>\n",
       "    </tr>\n",
       "  </thead>\n",
       "  <tbody>\n",
       "    <tr>\n",
       "      <th>count</th>\n",
       "      <td>8514.000000</td>\n",
       "      <td>8512.000000</td>\n",
       "      <td>8510.000000</td>\n",
       "      <td>8485.000000</td>\n",
       "      <td>8510.000000</td>\n",
       "      <td>8505.000000</td>\n",
       "      <td>8693.000000</td>\n",
       "    </tr>\n",
       "    <tr>\n",
       "      <th>mean</th>\n",
       "      <td>28.827930</td>\n",
       "      <td>224.687617</td>\n",
       "      <td>458.077203</td>\n",
       "      <td>173.729169</td>\n",
       "      <td>311.138778</td>\n",
       "      <td>304.854791</td>\n",
       "      <td>0.503624</td>\n",
       "    </tr>\n",
       "    <tr>\n",
       "      <th>std</th>\n",
       "      <td>14.489021</td>\n",
       "      <td>666.717663</td>\n",
       "      <td>1611.489240</td>\n",
       "      <td>604.696458</td>\n",
       "      <td>1136.705535</td>\n",
       "      <td>1145.717189</td>\n",
       "      <td>0.500016</td>\n",
       "    </tr>\n",
       "    <tr>\n",
       "      <th>min</th>\n",
       "      <td>0.000000</td>\n",
       "      <td>0.000000</td>\n",
       "      <td>0.000000</td>\n",
       "      <td>0.000000</td>\n",
       "      <td>0.000000</td>\n",
       "      <td>0.000000</td>\n",
       "      <td>0.000000</td>\n",
       "    </tr>\n",
       "    <tr>\n",
       "      <th>25%</th>\n",
       "      <td>19.000000</td>\n",
       "      <td>0.000000</td>\n",
       "      <td>0.000000</td>\n",
       "      <td>0.000000</td>\n",
       "      <td>0.000000</td>\n",
       "      <td>0.000000</td>\n",
       "      <td>0.000000</td>\n",
       "    </tr>\n",
       "    <tr>\n",
       "      <th>50%</th>\n",
       "      <td>27.000000</td>\n",
       "      <td>0.000000</td>\n",
       "      <td>0.000000</td>\n",
       "      <td>0.000000</td>\n",
       "      <td>0.000000</td>\n",
       "      <td>0.000000</td>\n",
       "      <td>1.000000</td>\n",
       "    </tr>\n",
       "    <tr>\n",
       "      <th>75%</th>\n",
       "      <td>38.000000</td>\n",
       "      <td>47.000000</td>\n",
       "      <td>76.000000</td>\n",
       "      <td>27.000000</td>\n",
       "      <td>59.000000</td>\n",
       "      <td>46.000000</td>\n",
       "      <td>1.000000</td>\n",
       "    </tr>\n",
       "    <tr>\n",
       "      <th>max</th>\n",
       "      <td>79.000000</td>\n",
       "      <td>14327.000000</td>\n",
       "      <td>29813.000000</td>\n",
       "      <td>23492.000000</td>\n",
       "      <td>22408.000000</td>\n",
       "      <td>24133.000000</td>\n",
       "      <td>1.000000</td>\n",
       "    </tr>\n",
       "  </tbody>\n",
       "</table>\n",
       "</div>"
      ],
      "text/plain": [
       "               Age   RoomService     FoodCourt  ShoppingMall           Spa  \\\n",
       "count  8514.000000   8512.000000   8510.000000   8485.000000   8510.000000   \n",
       "mean     28.827930    224.687617    458.077203    173.729169    311.138778   \n",
       "std      14.489021    666.717663   1611.489240    604.696458   1136.705535   \n",
       "min       0.000000      0.000000      0.000000      0.000000      0.000000   \n",
       "25%      19.000000      0.000000      0.000000      0.000000      0.000000   \n",
       "50%      27.000000      0.000000      0.000000      0.000000      0.000000   \n",
       "75%      38.000000     47.000000     76.000000     27.000000     59.000000   \n",
       "max      79.000000  14327.000000  29813.000000  23492.000000  22408.000000   \n",
       "\n",
       "             VRDeck  Transported  \n",
       "count   8505.000000  8693.000000  \n",
       "mean     304.854791     0.503624  \n",
       "std     1145.717189     0.500016  \n",
       "min        0.000000     0.000000  \n",
       "25%        0.000000     0.000000  \n",
       "50%        0.000000     1.000000  \n",
       "75%       46.000000     1.000000  \n",
       "max    24133.000000     1.000000  "
      ]
     },
     "execution_count": 9,
     "metadata": {},
     "output_type": "execute_result"
    }
   ],
   "source": [
    "# 숫자형 변수들에 대한 통계치들을 확인한다.\n",
    "train_data.describe() "
   ]
  },
  {
   "cell_type": "markdown",
   "id": "ad2ed1e7-f469-4e3c-9cc2-de467e467136",
   "metadata": {},
   "source": [
    "> 레이블인 Transported 의 평균을 통해 다른 차원으로 옮겨진 승객의 비율과 그렇지 않은 승객의 비율이 거의 동일한 것으로 보인다. 어매니티 서비스의 이용은 편차가 매우 큰것으로 보아 사람들마다 이용의 정도가 매우 상이한 것을 추측할 수 있다. 하지만 공통적인 것은 승객의 50% 이상은 어떤 어매니티 서비스도 사용하지 않는다는 점이다. 나이변수의 분포를 통해 승객의 75%는 38세보다 나이가 어린것으로 확인된다.\n"
   ]
  },
  {
   "cell_type": "code",
   "execution_count": 10,
   "id": "94e7e6db-8f1b-451b-8018-070f0b8b2fdc",
   "metadata": {},
   "outputs": [
    {
     "data": {
      "text/html": [
       "<div>\n",
       "<style scoped>\n",
       "    .dataframe tbody tr th:only-of-type {\n",
       "        vertical-align: middle;\n",
       "    }\n",
       "\n",
       "    .dataframe tbody tr th {\n",
       "        vertical-align: top;\n",
       "    }\n",
       "\n",
       "    .dataframe thead th {\n",
       "        text-align: right;\n",
       "    }\n",
       "</style>\n",
       "<table border=\"1\" class=\"dataframe\">\n",
       "  <thead>\n",
       "    <tr style=\"text-align: right;\">\n",
       "      <th></th>\n",
       "      <th>PassengerId</th>\n",
       "      <th>HomePlanet</th>\n",
       "      <th>CryoSleep</th>\n",
       "      <th>Cabin</th>\n",
       "      <th>Destination</th>\n",
       "      <th>VIP</th>\n",
       "      <th>Name</th>\n",
       "    </tr>\n",
       "  </thead>\n",
       "  <tbody>\n",
       "    <tr>\n",
       "      <th>count</th>\n",
       "      <td>8693</td>\n",
       "      <td>8492</td>\n",
       "      <td>8476</td>\n",
       "      <td>8494</td>\n",
       "      <td>8511</td>\n",
       "      <td>8490</td>\n",
       "      <td>8493</td>\n",
       "    </tr>\n",
       "    <tr>\n",
       "      <th>unique</th>\n",
       "      <td>8693</td>\n",
       "      <td>3</td>\n",
       "      <td>2</td>\n",
       "      <td>6560</td>\n",
       "      <td>3</td>\n",
       "      <td>2</td>\n",
       "      <td>8473</td>\n",
       "    </tr>\n",
       "    <tr>\n",
       "      <th>top</th>\n",
       "      <td>0001_01</td>\n",
       "      <td>Earth</td>\n",
       "      <td>False</td>\n",
       "      <td>G/734/S</td>\n",
       "      <td>TRAPPIST-1e</td>\n",
       "      <td>False</td>\n",
       "      <td>Gollux Reedall</td>\n",
       "    </tr>\n",
       "    <tr>\n",
       "      <th>freq</th>\n",
       "      <td>1</td>\n",
       "      <td>4602</td>\n",
       "      <td>5439</td>\n",
       "      <td>8</td>\n",
       "      <td>5915</td>\n",
       "      <td>8291</td>\n",
       "      <td>2</td>\n",
       "    </tr>\n",
       "  </tbody>\n",
       "</table>\n",
       "</div>"
      ],
      "text/plain": [
       "       PassengerId HomePlanet CryoSleep    Cabin  Destination    VIP  \\\n",
       "count         8693       8492      8476     8494         8511   8490   \n",
       "unique        8693          3         2     6560            3      2   \n",
       "top        0001_01      Earth     False  G/734/S  TRAPPIST-1e  False   \n",
       "freq             1       4602      5439        8         5915   8291   \n",
       "\n",
       "                  Name  \n",
       "count             8493  \n",
       "unique            8473  \n",
       "top     Gollux Reedall  \n",
       "freq                 2  "
      ]
     },
     "execution_count": 10,
     "metadata": {},
     "output_type": "execute_result"
    }
   ],
   "source": [
    "# 문자열인 열도 분포를 확인해보자. --> train_data.describe(include=['O'])\n",
    "train_data.describe(include=['O']) # O means object"
   ]
  },
  {
   "cell_type": "markdown",
   "id": "1b174ea3-37ae-4baf-b5f1-46c3bae7c8f4",
   "metadata": {},
   "source": [
    "```\n",
    "homeplanet은 3가지로 나뉘고, 그중에 가장 많이 나온 빈도수가 4602인데, top 종류가 Earth이므로 지구가 가장 많은 승객의 고향행성이다. \n",
    "과반수의 승객이 동면상태를 선택하지 않았고, 몇몇 사람들은 cabin을 함께 사용하기도 한다는 점을 알았다. 목적지는 3군데로 나뉘는데 대부분의 승객들이 'TRAPPIST-1e'에 간다는 것을 확인했다. 또한 대부분의 사람들은 vip가 아니고, vip인 사람들의 수는 199명이다.\n",
    "```"
   ]
  },
  {
   "cell_type": "code",
   "execution_count": 11,
   "id": "e97ee3df-4fa8-4d6f-8bd2-09a67d4c1bee",
   "metadata": {},
   "outputs": [
    {
     "name": "stdout",
     "output_type": "stream",
     "text": [
      "Available decks are 9 decks : ['B' 'F' 'A' 'G' nan 'E' 'D' 'C' 'T']\n",
      "Available nums are 1817 nums : [   0    1    2 ... 1892 1893 1894]\n",
      "Available sides are 3 sides : ['P' 'S' nan]\n"
     ]
    }
   ],
   "source": [
    "# eda를 위해 passengerid와 cabin 열을 수정해보자.\n",
    "# train, test 모두 수정할 것이기 떄문에 수정하기 전에 미리 test데이터의 기존 passengerID를 따로 복사해둔다.\n",
    "\n",
    "# saving the test ids:\n",
    "Test_Id = test_data.PassengerId\n",
    "\n",
    "combine = [train_data, test_data]\n",
    "\n",
    "for dataset in combine: # train_data -> test_data\n",
    "    # extract passenger group\n",
    "    dataset[\"PassengerGroup\"] = dataset[\"PassengerId\"].str.split('_', expand=True)[1].astype(int).astype(str) # 기존 passengerid의 '_' 뒤에 오는 값을 가지는 변수 생성\n",
    "    dataset.drop(columns = [\"PassengerId\"], axis=1, inplace=True) # 기존 passengerid는 삭제\n",
    "    \n",
    "    # extract cabin num, deck, side\n",
    "    dataset[\"deck\"] = dataset[\"Cabin\"].str.split('/',expand=True)[0]\n",
    "    dataset[\"num\"] = np.nan_to_num(dataset[\"Cabin\"].str.split('/',expand=True)[1].astype(float)).astype(int) # np.nan_to_num() 함수는 nan->0, -inf->최솟값, +inf->최댓값으로 변경해준다.\n",
    "    dataset[\"side\"] = dataset[\"Cabin\"].str.split('/',expand=True)[2]\n",
    "    dataset.drop([\"Cabin\"],axis=1, inplace=True)\n",
    "    \n",
    "\n",
    "print(f'Available decks are {train_data.deck.unique().shape[0]} decks : {train_data.deck.unique()}')\n",
    "print(f'Available nums are {train_data.num.unique().shape[0]} nums : {train_data.num.unique()}')\n",
    "print(f'Available sides are {train_data.side.unique().shape[0]} sides : {train_data.side.unique()}')"
   ]
  },
  {
   "cell_type": "markdown",
   "id": "649d7803-2adf-444e-914e-939732507716",
   "metadata": {},
   "source": [
    "## EDA"
   ]
  },
  {
   "cell_type": "code",
   "execution_count": 12,
   "id": "d22a509f-47e6-415f-9380-3c9d5a5a60a9",
   "metadata": {},
   "outputs": [],
   "source": [
    "# for survived_bar_plot by each categorical features\n",
    "def survived_bar_plot(feature, ax=None, font_scale=0.8): # ax는 뒤의 subplot만들시에 따로 지정해줄 것이다.\n",
    "    sns.set(font_scale=font_scale)\n",
    "    data = train_data[[feature,'Transported']].groupby([feature], as_index=False).mean().sort_values('Transported', ascending=False) # 각 피처의 범주에 따른 transported의 평균 값-> 다른 차원으로 이동되었을 확률\n",
    "    # draw the plot\n",
    "    plot = sns.barplot(data=data, x=feature, y='Transported', ci=None, ax=ax )\n",
    "    plot.set_title(f\"{feature} VS Transported\")\n",
    "    plot.set(xlabel=None)\n",
    "    plot.set(ylabel=None)\n",
    "    plot.bar_label(plot.containers[0], fmt='%.2f') # 막대 그래프 위에 주석을 달아주는 기능이다. "
   ]
  },
  {
   "cell_type": "markdown",
   "id": "a07a2f68-a8cb-42fc-9c88-dfe1b4a31869",
   "metadata": {
    "tags": []
   },
   "source": [
    "#### **<오차 막대(error bar) -> 'ci' 수정하기>**\n",
    "seaborn은 barplot() 함수를 사용할 때 각 막대에 기본적으로 오차막대(error bar)가 함께 나타나도록 되어 있다.\n",
    "\n",
    "그리고 이 오차막대를 그리는 범위는 기본적으로 ‘부트 스트랩 신뢰구간(Bootstrap confidence interval)’이라는 것을 사용한다. “이 데이터를 기반으로 유사한 상황의 95 %가이 범위 내에서 결과를 얻을 것”을 의미한다. 이 신뢰 구간은 평균(mean) 외에도 중앙값(median), 최빈값(mode) 등의 다른 값들을 함께 고려해서 계산하는 것이기 때문에 꽤나 훌륭한 수치라고 봐도 된다.\n",
    "\n",
    "만약 이 오차막대에 신뢰구간이 아니라 표준편차를 표현하고 싶다면 sns.barplot() 안에 ci=\"sd\"라고 지정하면 된다."
   ]
  },
  {
   "cell_type": "markdown",
   "id": "3e3d6883-67a6-49e5-8eb0-efa278a259f6",
   "metadata": {},
   "source": [
    "#### **seaborn 축 레이블 설정하기**\n",
    "\n",
    "1. set_xlabel() / set_ylabel()\n",
    "2. set()\n",
    "3. matplotlib.pyplot.xlabel() / matplotlib.pyplot.ylabel()"
   ]
  },
  {
   "cell_type": "code",
   "execution_count": 13,
   "id": "a7e455ab-ae95-43e4-a259-809ff0ba9360",
   "metadata": {},
   "outputs": [],
   "source": [
    "def survived_table(feature):\n",
    "    return train_data[[feature,'Transported']].groupby([feature], as_index=False).mean().sort_values(by='Transported', ascending=False).style.background_gradient(low=0.75,high=1) # style.background_gradient는 데이터의 수치를 색상의 온도로 보는 시각화다.\n",
    "\n",
    "# for survived_bar_plot by each numerical features\n",
    "def survived_hist_plot(feature, bin_width=5): # 값의 폭을 5단위로\n",
    "    plt.figure(figsize=(6,4))\n",
    "    sns.histplot(data=train_data, x = feature, hue='Transported', binwidth = bin_width, palette=sns.color_palette(['yellow','green']), multiple='stack').set_title(f'{feature} VS Transoported') # hue의 카테고리를 위로 쌓아 누적된 형태로 그리기\n",
    "    plt.show()"
   ]
  },
  {
   "cell_type": "markdown",
   "id": "c9530b16-c873-4ca6-ab59-6b6be75969bf",
   "metadata": {},
   "source": [
    "### Count of Target "
   ]
  },
  {
   "cell_type": "code",
   "execution_count": 14,
   "id": "6798811c-5e21-4a18-af93-f4e1b7ee98b2",
   "metadata": {},
   "outputs": [
    {
     "data": {
      "image/png": "[encoded data removed]",
      "text/plain": [
       "<Figure size 576x288 with 2 Axes>"
      ]
     },
     "metadata": {
      "needs_background": "light"
     },
     "output_type": "display_data"
    }
   ],
   "source": [
    "# count of transported passengers\n",
    "\n",
    "# pie chart\n",
    "f, ax = plt.subplots(1,2,figsize=(8,4))\n",
    "train_data['Transported'].replace({0:'Not Transported',1:'Transported'}).value_counts().plot.pie(explode=[0,0.1], autopct='%1.1f%%', ax=ax[0], shadow=True)\n",
    "ax[0].set_ylabel('')\n",
    "\n",
    "# countplot\n",
    "sns.countplot(x = train_data['Transported'].replace({0:'Not Transported', 1:'Transported'}), ax=ax[1])\n",
    "ax[1].set_ylabel('')\n",
    "ax[1].set_xlabel('')\n",
    "\n",
    "plt.show()"
   ]
  },
  {
   "cell_type": "markdown",
   "id": "75085410-eff0-4737-8e09-6cb92df77a3c",
   "metadata": {},
   "source": [
    "```\n",
    "Not transported 와 Transported의 비율이 거의 동일하다 --> 비대칭분포는 아니다.\n",
    "```"
   ]
  },
  {
   "cell_type": "markdown",
   "id": "a5e41c02-266b-4dd0-9790-a1bfe2bc506f",
   "metadata": {
    "tags": []
   },
   "source": [
    "#### Pie Chart\n",
    "- matplotlib.pyplot.pie(x, explode=None, labels=None, colors=None, autopct=None, pctdistance=0.6, shadow=False, labeldistance=1.1, startangle=None, radius=None, counterclock=True, wedgeprops=None, textprops=None, center=(0,0), frame=False, rotatelabels=False)\n",
    "\n",
    "- x : 필수\n",
    "- explode : 각 항목을 파이의 원점에서 튀어 나오는 정도를 나타낸다. 튜플로 묶어줘야 한다.\n",
    "- labels : 각 항목의 이름을 지정한다. 리스트로 묶어줘야 한다.\n",
    "- colors : 각 항목의 색을 지정한다. 리스트로 묶어줘야 한다.\n",
    "- autopct : 각 항목의 퍼센트를 표시한다. 문자형으로 표시 -> ex) autopct = '%.2f'\n",
    "- pctdistance : 퍼센트를 표시할 위치를 지정한다.(중앙에서의 거리), default=0.6\n",
    "- shadow : 그림자를 나타낼 것인지의 여부를 설정한다. (True,False)\n",
    "- labeldistance : 레이블을 표시할 거리를 설정한다. (중앙에서의 거리), default=1.1\n",
    "- startangle : x축에서 반시계 방향으로의 시작 각도를 설정한다. \n",
    "- radius : 파이의 반지름을 설정한다. default = 1\n",
    "- counterclock : 각 항목을 표현하는 방향을 반시계방향으로 할 것인지의 여부. default = True\n",
    "- wedgeprops : 웨지 속성을 설정한다. 딕셔너리로 묶어준다. ex) wedgeprops = dict(edgecolor='black', linewidth=3, linestyle=':')\n",
    "- textprops : 레이블의 text 속성을 설정한다. 딕셔너리로 묶어준다. ex) textprops = dict(rotation=15, size=12, weight=3, color='red')\n",
    "- center : 차트의 중심을 설정한다. default=(0,0)\n",
    "- frame : 차트의 x,y 축을 표현할 지의 여부. default=False\n",
    "- rotatelabels : 레이블을 각 항목의 방향에 맞게 회전할 지 여부를 설정한다. default=False"
   ]
  },
  {
   "cell_type": "markdown",
   "id": "c1d4c022-de4f-4fda-9273-06ae9e335d92",
   "metadata": {},
   "source": [
    "#### Categorical features with target "
   ]
  },
  {
   "cell_type": "code",
   "execution_count": 15,
   "id": "49b4792c-5c0d-4f55-87ea-d75cf1fad321",
   "metadata": {},
   "outputs": [
    {
     "data": {
      "image/png": "[encoded data removed]",
      "text/plain": [
       "<Figure size 1296x1080 with 9 Axes>"
      ]
     },
     "metadata": {
      "needs_background": "light"
     },
     "output_type": "display_data"
    }
   ],
   "source": [
    "fig, ax = plt.subplots(3,3, figsize=(18,15)) # 9개의 plot을 그리기 위한 subplot. \n",
    "survived_bar_plot('HomePlanet', ax[0][0]) # 1행 1열\n",
    "survived_bar_plot('CryoSleep', ax[0][1]) # 1행 2열\n",
    "survived_bar_plot('Destination', ax[0][2]) # 1행 3열\n",
    "survived_bar_plot('VIP', ax[1][0]) # 2행 1열\n",
    "survived_bar_plot('PassengerGroup', ax[1][1]) # 2행 2열\n",
    "survived_bar_plot('deck', ax[1][2]) # 2행 3열\n",
    "survived_bar_plot('side', ax[2][0]) # 3행 1열"
   ]
  },
  {
   "cell_type": "markdown",
   "id": "770eef0d-dafb-4b31-bea8-3007d65a6eaa",
   "metadata": {},
   "source": [
    "```\n",
    "transported 된 사람들의 고향행성은 europa 가 다른 행성보다 비율이 높다. 승객들의 절반 이상이 고향행성이 Earth 였다는점을 참고한다면 유의미한 정보를 제공해준다.   또, transported 된 사람들은 동면을 선택한 비율이 80% 정도다. 승객들의 절반 이상넘게 동면을 선택하지 않았다는 점을 참고하면 유의미한 정보를 제공해준다.  목적지 같은 경우에는 큰 비율적인 차이는 보이지 않지만 55 Cancri e 가 가장 이전된 비율이 높다. 또한 놀라운 점은 전체 승객 중 VIP인 고객은 2%밖에 되지 않는다. 하지만 이전된 승객들 중에서는 40%가 VIP인 것을 확인할 수 있기 때문에 유의미한 정보다. deck의 비율은 B 와 C가 가장 높다. \n",
    "```"
   ]
  },
  {
   "cell_type": "markdown",
   "id": "06996dbe-bf53-434f-9284-f55fc73628fa",
   "metadata": {},
   "source": [
    "#### Numerical features with target"
   ]
  },
  {
   "cell_type": "code",
   "execution_count": 16,
   "id": "7937a9c7-b40d-43e4-9da5-6ce0c336201f",
   "metadata": {},
   "outputs": [
    {
     "data": {
      "image/png": "[encoded data removed]",
      "text/plain": [
       "<Figure size 432x288 with 1 Axes>"
      ]
     },
     "metadata": {},
     "output_type": "display_data"
    }
   ],
   "source": [
    "# 1) Age\n",
    "\n",
    "# using histplot\n",
    "sns.set_style('dark') # to remove the grid\n",
    "survived_hist_plot('Age')"
   ]
  },
  {
   "cell_type": "markdown",
   "id": "1d629162-1925-42a2-bd12-94f8c0c658be",
   "metadata": {},
   "source": [
    "```\n",
    "10살 이하인 아이들이 Transported 된 비율이 가장 큰 것을 확인했다. --> 추후 더 분석할 필요가 있겠다\n",
    "또한 각 승객 나이 분포에서 절반정도는 transported된 것을 확인할 수 있다. \n",
    "```"
   ]
  },
  {
   "cell_type": "code",
   "execution_count": 17,
   "id": "fd098951-206e-497c-aeb8-5586e6ae323a",
   "metadata": {},
   "outputs": [
    {
     "data": {
      "image/png": "[encoded data removed]",
      "text/plain": [
       "<Figure size 1296x576 with 6 Axes>"
      ]
     },
     "metadata": {},
     "output_type": "display_data"
    }
   ],
   "source": [
    "# 2) RoomService, FoodCourt, ShoppingMall, Spa, VRDeck\n",
    "\n",
    "# using boxplot\n",
    "plot, ax = plt.subplots(2,3,figsize=(18,8)) #총 6개의 sub차트를 만들었다.\n",
    "\n",
    "sns.boxplot(data=train_data, x = 'Transported',  y='RoomService', ax=ax[0][0]).set_title('RoomService')\n",
    "sns.boxplot(data=train_data, x = 'Transported',  y='FoodCourt', ax=ax[0][1]).set_title('FoodCourt')\n",
    "sns.boxplot(data=train_data, x = 'Transported',  y='ShoppingMall', ax=ax[0][2]).set_title('ShoppingMall')\n",
    "sns.boxplot(data=train_data, x = 'Transported',  y='Spa', ax=ax[1][0]).set_title('Spa')\n",
    "sns.boxplot(data=train_data, x = 'Transported',  y='VRDeck', ax=ax[1][1]).set_title('VRDeck')\n",
    "plt.subplots_adjust(wspace=0.4, hspace=0.4) # 각 서브플롯간의 간격 조정"
   ]
  },
  {
   "cell_type": "markdown",
   "id": "d7625e0e-c985-43a5-8519-005352dfd274",
   "metadata": {},
   "source": [
    "```\n",
    "많은 이상치들이 있다는 것을 확인할 수 있다.\n",
    "```"
   ]
  },
  {
   "cell_type": "markdown",
   "id": "3b760bca-98a0-48c1-914d-c4702f741653",
   "metadata": {
    "tags": []
   },
   "source": [
    "#### **서브 플롯간의 간격 조절 : subplots_adjust, tight_layout(), constrained_layout**\n",
    "\n",
    "- fig.tight_layout() : 공백을 줄인다. \n",
    "- plt.subplots_adjust(left, bottom, right, top, wspace, hspace) : 현재 배치되어 있는 subplot들의 위치를 직접 조정한다. \n",
    "    - left, bottom, right, top : 서브플롯 4면의 위치 조정\n",
    "    - hspace, wspace : 서브플롯 간의 간격을 위해 각각 figure의 너비와 높이에 대한 비율 조절\n",
    "- plt.subplots(constrained_layout = True) : 서브플롯간의 간격을 가능한 최적의 수치로 자동 조정해준다. --> 가장 편리"
   ]
  },
  {
   "cell_type": "markdown",
   "id": "a4472cbb-8e95-4acf-b5a3-2846507afed5",
   "metadata": {},
   "source": [
    "### Correlation between numerical features \n",
    "\n",
    "수치형 변수들간의 상관관계를 확인해보자."
   ]
  },
  {
   "cell_type": "code",
   "execution_count": 18,
   "id": "90e80159-f25f-43c1-8685-14901af99254",
   "metadata": {},
   "outputs": [
    {
     "data": {
      "text/plain": [
       "<AxesSubplot:>"
      ]
     },
     "execution_count": 18,
     "metadata": {},
     "output_type": "execute_result"
    },
    {
     "data": {
      "image/png": "[encoded data removed]",
      "text/plain": [
       "<Figure size 576x576 with 2 Axes>"
      ]
     },
     "metadata": {},
     "output_type": "display_data"
    }
   ],
   "source": [
    "sns.set(font_scale=0.8) # font 사이즈를 조정한다.\n",
    "plt.figure(figsize=(8,8)) # figure 사이즈를 조정한다.\n",
    "sns.heatmap(train_data.corr(), annot=True, fmt='.2f', cmap='Blues')"
   ]
  },
  {
   "cell_type": "markdown",
   "id": "1934e7e3-61c3-4d8c-9c3c-7b9a90ccca23",
   "metadata": {},
   "source": [
    "```\n",
    "딱히 상관관계가 있다고 볼만한 피처들은 없다. 레이블 값과도 상관관계가 있어보이는 피처는 없는것으로 확인된다.\n",
    "```"
   ]
  },
  {
   "cell_type": "markdown",
   "id": "ffb90893-6070-4bd6-aa69-b5bd182ac0c7",
   "metadata": {
    "tags": []
   },
   "source": [
    "##### sns.heatmap\n",
    "- annot : bool, True ->  write the data value in each cell.\n",
    "- fmt : str. String formatting code to use when adding annotations."
   ]
  },
  {
   "cell_type": "markdown",
   "id": "d3cca167-68ed-44cf-8453-414f0ea5efe3",
   "metadata": {},
   "source": [
    "#### Correlation between numerical and categorical features \n",
    "\n",
    "범주형 데이터와 숫자형 데이터간의 관계를 살펴보기 위해서 **boxplot** 으로 나타내보자."
   ]
  },
  {
   "cell_type": "code",
   "execution_count": 19,
   "id": "f06bf041-0b5e-4e75-bc42-fa74e8e84edb",
   "metadata": {},
   "outputs": [
    {
     "data": {
      "text/plain": [
       "<AxesSubplot:xlabel='deck', ylabel='Age'>"
      ]
     },
     "execution_count": 19,
     "metadata": {},
     "output_type": "execute_result"
    },
    {
     "data": {
      "image/png": "[encoded data removed]",
      "text/plain": [
       "<Figure size 1152x432 with 6 Axes>"
      ]
     },
     "metadata": {},
     "output_type": "display_data"
    }
   ],
   "source": [
    "# 1) Age 와 타 범주형 데이터간의 관계\n",
    "plot, ax = plt.subplots(2,3,figsize=(16,6))\n",
    "sns.boxplot(data=train_data, y = 'Age', x = 'HomePlanet', ax=ax[0][0])\n",
    "sns.boxplot(data=train_data, y = 'Age', x = 'Destination', ax=ax[0][1])\n",
    "sns.boxplot(data=train_data, y = 'Age', x = 'CryoSleep', ax=ax[0][2])\n",
    "sns.boxplot(data=train_data, y = 'Age', x = 'VIP', ax=ax[1][0])\n",
    "sns.boxplot(data=train_data, y = 'Age', x = 'PassengerGroup', ax=ax[1][1])\n",
    "sns.boxplot(data=train_data, y = 'Age', x = 'deck', ax=ax[1][2])"
   ]
  },
  {
   "cell_type": "markdown",
   "id": "983b1b61-5062-41e8-a9ff-60695d66f262",
   "metadata": {},
   "source": [
    "```\n",
    "'Age' 열의 결측값을 채우는 방법으로 PassengerGroup 을 사용하면 적절할 것으로 판단된다.\n",
    "```"
   ]
  },
  {
   "cell_type": "markdown",
   "id": "183599de-2edc-435b-8290-9cf66e2c27fd",
   "metadata": {},
   "source": [
    "### Data Processing"
   ]
  },
  {
   "cell_type": "code",
   "execution_count": 20,
   "id": "ae729a0b-1c09-4afa-9868-99479a883c9c",
   "metadata": {},
   "outputs": [],
   "source": [
    "transported = train_data['Transported'] # 레이블데이터\n",
    "all_data = pd.concat([train_data, test_data]).reset_index(drop=True) # 학습 데이터 + 테스트 데이터 = 전체 데이터, 원본 인덱스 제거\n",
    "all_data.drop(columns=['Transported'], inplace=True)"
   ]
  },
  {
   "cell_type": "markdown",
   "id": "423ba07b-6d1a-45ee-97cc-606be3cdd4a8",
   "metadata": {},
   "source": [
    "#### Filling Missed Values"
   ]
  },
  {
   "cell_type": "code",
   "execution_count": 21,
   "id": "7e991438-e0f2-475b-8658-827fbbeb0ab6",
   "metadata": {},
   "outputs": [
    {
     "data": {
      "text/plain": [
       "HomePlanet        288\n",
       "CryoSleep         310\n",
       "Destination       274\n",
       "Age               270\n",
       "VIP               296\n",
       "RoomService       263\n",
       "FoodCourt         289\n",
       "ShoppingMall      306\n",
       "Spa               284\n",
       "VRDeck            268\n",
       "Name              294\n",
       "PassengerGroup      0\n",
       "deck              299\n",
       "num                 0\n",
       "side              299\n",
       "dtype: int64"
      ]
     },
     "execution_count": 21,
     "metadata": {},
     "output_type": "execute_result"
    }
   ],
   "source": [
    "all_data.isnull().sum()"
   ]
  },
  {
   "cell_type": "code",
   "execution_count": 22,
   "id": "fd89a9a1-5db7-4c57-b4fd-991fb79c0059",
   "metadata": {},
   "outputs": [
    {
     "name": "stdout",
     "output_type": "stream",
     "text": [
      "Earth\n"
     ]
    }
   ],
   "source": [
    "# 일단, HomePlanet, CryoSleep, Destination, VIP 의 결측치부터 채워보자.\n",
    "# 모두 각 열의 최빈값으로 바꾸도록 한다. \n",
    "print(all_data[\"HomePlanet\"].mode()[0]) \n",
    "all_data['HomePlanet'] = all_data['HomePlanet'].fillna(all_data['HomePlanet'].mode()[0])\n",
    "all_data['CryoSleep'] = all_data['CryoSleep'].fillna(all_data['CryoSleep'].mode()[0])\n",
    "all_data['Destination'] = all_data['Destination'].fillna(all_data['Destination'].mode()[0])\n",
    "all_data['VIP'] = all_data['VIP'].fillna(all_data['VIP'].mode()[0])"
   ]
  },
  {
   "cell_type": "code",
   "execution_count": 23,
   "id": "e2a1f60b-112f-4615-a550-73885c9aec73",
   "metadata": {},
   "outputs": [],
   "source": [
    "# 다음으로 age열의 결측치는 passengergroup 열을 사용해서 채워넣는다.\n",
    "PassengerGroups  = ['1','2','3','4','5','6','7','8']\n",
    "median_ages = {} # 빈 딕셔너리 생성\n",
    "for passengergroup in PassengerGroups:\n",
    "    median_ages[passengergroup] = all_data.loc[all_data['PassengerGroup'] == passengergroup,'Age'].median()\n",
    "    \n",
    "for index, passenger in all_data.iterrows():\n",
    "    if pd.isna(passenger['Age']):\n",
    "        all_data.at[index,'Age'] = median_ages[passenger['PassengerGroup']]"
   ]
  },
  {
   "cell_type": "markdown",
   "id": "384f7711-e93a-4180-9134-347bc2deb49e",
   "metadata": {},
   "source": [
    "- iterrows() : 데이터프레임의 행 반복하기\n",
    "\n",
    "하나하나의 행을 참조하여 for loop을 돌리는 경우에 사용한다.\n",
    "**데이터프레임** 에 적용할 수 있으며 결과로 iterrows 객체를 반환한다. \n",
    "\n",
    "> **iterrows 객체** 는 데이터프레임의 각 행 정보를 담은 객체라고 보면 된다.\n",
    "\n",
    "> (dataframe index, row_series) 의 튜플이 iterrows 객체의 모습이라고 보면 된다. \n",
    "\n",
    "> 주의할 점은 iterrows가 갖게되는 행 순서는 데이터프레임의 인덱스와는 상관 없이 iterrows가 적용된 데이터프레임의 가장 위쪽 행부터 참조한다는 것이다.\n"
   ]
  },
  {
   "cell_type": "markdown",
   "id": "384661e0-533f-4a2d-b384-fa7a2a6e5ce8",
   "metadata": {},
   "source": [
    "---\n",
    "> [] 를 사용한 인덱싱은 많은 입력을 받을 수 있는만큼 많은 작업을 처리해야 하기 때문에 성능이 좋지는 않다. \n",
    "\n",
    "> **.at** 과 **.iat**은 하나의 스칼라값에만 접근하고 싶을 때 사용함으로서 성능을 개선할 수 있다. (loc, iloc과 사용은 같다)\n",
    "- .at() : 하나의 스칼라값에만 접근하고 싶다면 사용한다. 레이블 기반으로 데이터에 접근한다. (=loc)\n",
    "    - series.at['index_label']\n",
    "    - dataframe.at['index_label','column_label']\n",
    "- .iat() : 하나의 스칼라값에만 접근하고 싶다면 사용. 위치 정수 기반으로 데이터에 접근한다. (=iloc)\n",
    "    - series.iat[index_int]\n",
    "    - dataframe.iat[index_int, column_int]\n",
    "    \n",
    "> 대략 at/iat 메소드가 loc/iloc 메소드에 비해 1.5배 정도 빠르다고 한다."
   ]
  },
  {
   "cell_type": "code",
   "execution_count": 24,
   "id": "584a1b40-6e00-4be3-91a5-606bbd152c6a",
   "metadata": {},
   "outputs": [],
   "source": [
    "# RoomService, FoodCourt, ShoppingMall, Spa, VRDeck 결측치 채우기\n",
    "# 수치형 데이터는 중앙값으로 대체해보자. \n",
    "all_data['RoomService'] = all_data['RoomService'].fillna(all_data['RoomService'].median()[0])\n",
    "all_data['FoodCourt'] = all_data['FoodCourt'].fillna(all_data['FoodCourt'].median()[0])\n",
    "all_data['ShoppingMall'] = all_data['ShoppingMall'].fillna(all_data['ShoppingMall'].median()[0])\n",
    "all_data['Spa'] = all_data['Spa'].fillna(all_data['Spa'].median()[0])\n",
    "all_data['VRDeck'] = all_data['VRDeck'].fillna(all_data['VRDeck'].median()[0])"
   ]
  },
  {
   "cell_type": "code",
   "execution_count": 25,
   "id": "6340b60d-1278-4a00-b13c-fb85468f994d",
   "metadata": {},
   "outputs": [],
   "source": [
    "# deck,side(범주형) 의 결측치 채워넣기\n",
    "# 마찬가지로 최빈값으로 채워넣기\n",
    "\n",
    "all_data['deck'] = all_data['deck'].fillna(all_data.deck.mode()[0])\n",
    "all_data.side = all_data.side.fillna(all_data.side.mode()[0])"
   ]
  },
  {
   "cell_type": "code",
   "execution_count": 26,
   "id": "bd16eb02-8872-44ea-bc59-db107ffa8bd3",
   "metadata": {},
   "outputs": [],
   "source": [
    "# Name 결측치 채워넣기 -> None 으로\n",
    "all_data.Name = all_data.Name.fillna('None')"
   ]
  },
  {
   "cell_type": "code",
   "execution_count": 27,
   "id": "28935891-b9d7-4dc5-a276-e150311da20b",
   "metadata": {},
   "outputs": [
    {
     "data": {
      "text/plain": [
       "HomePlanet        0\n",
       "CryoSleep         0\n",
       "Destination       0\n",
       "Age               0\n",
       "VIP               0\n",
       "RoomService       0\n",
       "FoodCourt         0\n",
       "ShoppingMall      0\n",
       "Spa               0\n",
       "VRDeck            0\n",
       "Name              0\n",
       "PassengerGroup    0\n",
       "deck              0\n",
       "num               0\n",
       "side              0\n",
       "dtype: int64"
      ]
     },
     "execution_count": 27,
     "metadata": {},
     "output_type": "execute_result"
    }
   ],
   "source": [
    "# 모든 열의 결측치가 해결되었는지 확인\n",
    "all_data.isnull().sum()"
   ]
  },
  {
   "cell_type": "markdown",
   "id": "e9f2ab2a-5752-4b44-91f9-5a9e32c773e2",
   "metadata": {},
   "source": [
    "### Data Engineering\n"
   ]
  },
  {
   "cell_type": "code",
   "execution_count": 28,
   "id": "d8b18356-4242-4dee-90be-7484b51a862a",
   "metadata": {},
   "outputs": [],
   "source": [
    "# 가족의 수를 알 수 있는 FamilySize 열 생성\n",
    "all_data['LastName'] = all_data.Name.str.split(' ', expand=True)[1] # Name 열에서 성만 따로 빼서 다른 열로 할당\n",
    "last_name_count = all_data.Name.str.split(' ', expand=True)[1].value_counts() # 이름의 성별로 몇 개의 데이터가 있는지 확인 -> 객체 저장\n",
    "all_data['FamilySize'] = [last_name_count[x] if not pd.isna(x) else None for x in all_data['LastName']] # 성이 있으면 last_name_count값을 넣고 없으면 None값을 넣어서 FamilySize 변수 만들기\n",
    "all_data['FamilySize'] = all_data['FamilySize'].fillna(0) # 결측치 값은 0으로 바꾸기\n",
    "all_data.drop(columns = ['LastName','Name'], inplace=True) # LastName 열과 기존의 Name 열을 삭제"
   ]
  },
  {
   "cell_type": "code",
   "execution_count": 29,
   "id": "a9fde4ac-e9d6-4c26-b8f6-be5ef1ad7545",
   "metadata": {},
   "outputs": [],
   "source": [
    "# 비행동안 사용한 서비스의 총 금액을 담고 있는 MoneySpent 열 생성\n",
    "# 어메니티 서비스와 관려된 열은 레이블 변수에 큰 영향을 주는 것 같지 않기 때문에 (위의 boxplot 참고) \n",
    "all_data['MoneySpent'] = all_data['RoomService'] + all_data['FoodCourt'] + all_data['ShoppingMall'] + all_data['Spa'] + all_data['VRDeck']"
   ]
  },
  {
   "cell_type": "code",
   "execution_count": 30,
   "id": "3a3609d5-b952-453f-8ea6-030b62e005e0",
   "metadata": {},
   "outputs": [],
   "source": [
    "# MoneySpent를 카테고리화 할 수 있다. -> 'SpendCategory'\n",
    "# 따로 따로 수치형 변수로 존재하는 것보다 어메니티 서비스에 총 들인 금액으로 카테고리화하면 차원도 줄이고 효율도 높아질 것이다. \n",
    "all_data['SpendCategory'] ='' # 빈 문자열 할당 (object)\n",
    "all_data.loc[all_data['MoneySpent'].between(0,1,'left'), 'SpendCategory'] = 'Zero_Spend'\n",
    "all_data.loc[all_data['MoneySpent'].between(1,800,'both'),'SpendCategory'] = 'Under_800'\n",
    "all_data.loc[all_data['MoneySpent'].between(800,1200,'right'), 'SpendCategory'] = 'Median_1200'\n",
    "all_data.loc[all_data['MoneySpent'].between(1200,2700,'right'), 'SpendCategory'] = 'Upper_2700'\n",
    "all_data.loc[all_data['MoneySpent'].between(2700,100000,'right'), 'SpendCategory'] = 'Big_Spender'\n",
    "all_data['SpendCategory'] = all_data['SpendCategory'].astype('category') # 카테고리형으로 변환"
   ]
  },
  {
   "cell_type": "code",
   "execution_count": 31,
   "id": "e03f2eaf-6095-4908-b1ee-100543e0f166",
   "metadata": {},
   "outputs": [],
   "source": [
    "# AnySpend : 서비스를 사용했는지의 여부를 알 수 있는 열 (boolean 형)\n",
    "all_data['AnySpend'] = all_data['MoneySpent'] > 0"
   ]
  },
  {
   "cell_type": "code",
   "execution_count": 32,
   "id": "0bd39294-7437-4d99-a6f9-74379dcf5f4d",
   "metadata": {},
   "outputs": [],
   "source": [
    "# IsChild : 승객의 나이가 10살 이하인지의 여부를 알 수 있는 열 (boolean 형)\n",
    "# 앞서 transported=1인 데이터에 10살 이하인 애들이 많았기 때문에 \n",
    "all_data['IsChild'] = all_data['Age'] <= 10"
   ]
  },
  {
   "cell_type": "code",
   "execution_count": 33,
   "id": "1b195a75-e58f-44b3-b963-c23a4a5d29e8",
   "metadata": {},
   "outputs": [
    {
     "data": {
      "text/html": [
       "<div>\n",
       "<style scoped>\n",
       "    .dataframe tbody tr th:only-of-type {\n",
       "        vertical-align: middle;\n",
       "    }\n",
       "\n",
       "    .dataframe tbody tr th {\n",
       "        vertical-align: top;\n",
       "    }\n",
       "\n",
       "    .dataframe thead th {\n",
       "        text-align: right;\n",
       "    }\n",
       "</style>\n",
       "<table border=\"1\" class=\"dataframe\">\n",
       "  <thead>\n",
       "    <tr style=\"text-align: right;\">\n",
       "      <th></th>\n",
       "      <th>HomePlanet</th>\n",
       "      <th>CryoSleep</th>\n",
       "      <th>Destination</th>\n",
       "      <th>Age</th>\n",
       "      <th>VIP</th>\n",
       "      <th>RoomService</th>\n",
       "      <th>FoodCourt</th>\n",
       "      <th>ShoppingMall</th>\n",
       "      <th>Spa</th>\n",
       "      <th>VRDeck</th>\n",
       "      <th>PassengerGroup</th>\n",
       "      <th>deck</th>\n",
       "      <th>num</th>\n",
       "      <th>side</th>\n",
       "      <th>FamilySize</th>\n",
       "      <th>MoneySpent</th>\n",
       "      <th>SpendCategory</th>\n",
       "      <th>AnySpend</th>\n",
       "      <th>IsChild</th>\n",
       "    </tr>\n",
       "  </thead>\n",
       "  <tbody>\n",
       "    <tr>\n",
       "      <th>0</th>\n",
       "      <td>Europa</td>\n",
       "      <td>False</td>\n",
       "      <td>TRAPPIST-1e</td>\n",
       "      <td>39.0</td>\n",
       "      <td>False</td>\n",
       "      <td>0.0</td>\n",
       "      <td>0.0</td>\n",
       "      <td>0.0</td>\n",
       "      <td>0.0</td>\n",
       "      <td>0.0</td>\n",
       "      <td>1</td>\n",
       "      <td>B</td>\n",
       "      <td>0</td>\n",
       "      <td>P</td>\n",
       "      <td>3.0</td>\n",
       "      <td>0.0</td>\n",
       "      <td>Zero_Spend</td>\n",
       "      <td>False</td>\n",
       "      <td>False</td>\n",
       "    </tr>\n",
       "    <tr>\n",
       "      <th>1</th>\n",
       "      <td>Earth</td>\n",
       "      <td>False</td>\n",
       "      <td>TRAPPIST-1e</td>\n",
       "      <td>24.0</td>\n",
       "      <td>False</td>\n",
       "      <td>109.0</td>\n",
       "      <td>9.0</td>\n",
       "      <td>25.0</td>\n",
       "      <td>549.0</td>\n",
       "      <td>44.0</td>\n",
       "      <td>1</td>\n",
       "      <td>F</td>\n",
       "      <td>0</td>\n",
       "      <td>S</td>\n",
       "      <td>4.0</td>\n",
       "      <td>736.0</td>\n",
       "      <td>Under_800</td>\n",
       "      <td>True</td>\n",
       "      <td>False</td>\n",
       "    </tr>\n",
       "    <tr>\n",
       "      <th>2</th>\n",
       "      <td>Europa</td>\n",
       "      <td>False</td>\n",
       "      <td>TRAPPIST-1e</td>\n",
       "      <td>58.0</td>\n",
       "      <td>True</td>\n",
       "      <td>43.0</td>\n",
       "      <td>3576.0</td>\n",
       "      <td>0.0</td>\n",
       "      <td>6715.0</td>\n",
       "      <td>49.0</td>\n",
       "      <td>1</td>\n",
       "      <td>A</td>\n",
       "      <td>0</td>\n",
       "      <td>S</td>\n",
       "      <td>7.0</td>\n",
       "      <td>10383.0</td>\n",
       "      <td>Big_Spender</td>\n",
       "      <td>True</td>\n",
       "      <td>False</td>\n",
       "    </tr>\n",
       "    <tr>\n",
       "      <th>3</th>\n",
       "      <td>Europa</td>\n",
       "      <td>False</td>\n",
       "      <td>TRAPPIST-1e</td>\n",
       "      <td>33.0</td>\n",
       "      <td>False</td>\n",
       "      <td>0.0</td>\n",
       "      <td>1283.0</td>\n",
       "      <td>371.0</td>\n",
       "      <td>3329.0</td>\n",
       "      <td>193.0</td>\n",
       "      <td>2</td>\n",
       "      <td>A</td>\n",
       "      <td>0</td>\n",
       "      <td>S</td>\n",
       "      <td>7.0</td>\n",
       "      <td>5176.0</td>\n",
       "      <td>Big_Spender</td>\n",
       "      <td>True</td>\n",
       "      <td>False</td>\n",
       "    </tr>\n",
       "    <tr>\n",
       "      <th>4</th>\n",
       "      <td>Earth</td>\n",
       "      <td>False</td>\n",
       "      <td>TRAPPIST-1e</td>\n",
       "      <td>16.0</td>\n",
       "      <td>False</td>\n",
       "      <td>303.0</td>\n",
       "      <td>70.0</td>\n",
       "      <td>151.0</td>\n",
       "      <td>565.0</td>\n",
       "      <td>2.0</td>\n",
       "      <td>1</td>\n",
       "      <td>F</td>\n",
       "      <td>1</td>\n",
       "      <td>S</td>\n",
       "      <td>9.0</td>\n",
       "      <td>1091.0</td>\n",
       "      <td>Median_1200</td>\n",
       "      <td>True</td>\n",
       "      <td>False</td>\n",
       "    </tr>\n",
       "  </tbody>\n",
       "</table>\n",
       "</div>"
      ],
      "text/plain": [
       "  HomePlanet  CryoSleep  Destination   Age    VIP  RoomService  FoodCourt  \\\n",
       "0     Europa      False  TRAPPIST-1e  39.0  False          0.0        0.0   \n",
       "1      Earth      False  TRAPPIST-1e  24.0  False        109.0        9.0   \n",
       "2     Europa      False  TRAPPIST-1e  58.0   True         43.0     3576.0   \n",
       "3     Europa      False  TRAPPIST-1e  33.0  False          0.0     1283.0   \n",
       "4      Earth      False  TRAPPIST-1e  16.0  False        303.0       70.0   \n",
       "\n",
       "   ShoppingMall     Spa  VRDeck PassengerGroup deck  num side  FamilySize  \\\n",
       "0           0.0     0.0     0.0              1    B    0    P         3.0   \n",
       "1          25.0   549.0    44.0              1    F    0    S         4.0   \n",
       "2           0.0  6715.0    49.0              1    A    0    S         7.0   \n",
       "3         371.0  3329.0   193.0              2    A    0    S         7.0   \n",
       "4         151.0   565.0     2.0              1    F    1    S         9.0   \n",
       "\n",
       "   MoneySpent SpendCategory  AnySpend  IsChild  \n",
       "0         0.0    Zero_Spend     False    False  \n",
       "1       736.0     Under_800      True    False  \n",
       "2     10383.0   Big_Spender      True    False  \n",
       "3      5176.0   Big_Spender      True    False  \n",
       "4      1091.0   Median_1200      True    False  "
      ]
     },
     "execution_count": 33,
     "metadata": {},
     "output_type": "execute_result"
    }
   ],
   "source": [
    "all_data.head()"
   ]
  },
  {
   "cell_type": "markdown",
   "id": "1b977552-cbc3-41bd-aeae-f6d0f120dbf7",
   "metadata": {},
   "source": [
    "### Preparing for Training"
   ]
  },
  {
   "cell_type": "code",
   "execution_count": 34,
   "id": "df8e6025-7c37-4bcc-b607-4e80d7bb194d",
   "metadata": {},
   "outputs": [],
   "source": [
    "# converting boolean to int for modeling\n",
    "all_data['CryoSleep'] = all_data['CryoSleep'].astype(int)\n",
    "all_data['VIP'] = all_data['VIP'].astype(int)\n",
    "all_data['AnySpend'] = all_data['AnySpend'].astype(int)\n",
    "all_data['IsChild'] = all_data['IsChild'].astype(int)\n",
    "\n",
    "# FamilySize도 아예 정수형으로 바꿔주자 \n",
    "all_data['FamilySize'] = all_data['FamilySize'].astype(int)"
   ]
  },
  {
   "cell_type": "code",
   "execution_count": 35,
   "id": "1832460c-73f0-4b28-9094-50f0aa9a22e8",
   "metadata": {},
   "outputs": [
    {
     "name": "stdout",
     "output_type": "stream",
     "text": [
      "<class 'pandas.core.frame.DataFrame'>\n",
      "RangeIndex: 12970 entries, 0 to 12969\n",
      "Data columns (total 19 columns):\n",
      " #   Column          Non-Null Count  Dtype   \n",
      "---  ------          --------------  -----   \n",
      " 0   HomePlanet      12970 non-null  object  \n",
      " 1   CryoSleep       12970 non-null  int32   \n",
      " 2   Destination     12970 non-null  object  \n",
      " 3   Age             12970 non-null  float64 \n",
      " 4   VIP             12970 non-null  int32   \n",
      " 5   RoomService     12970 non-null  float64 \n",
      " 6   FoodCourt       12970 non-null  float64 \n",
      " 7   ShoppingMall    12970 non-null  float64 \n",
      " 8   Spa             12970 non-null  float64 \n",
      " 9   VRDeck          12970 non-null  float64 \n",
      " 10  PassengerGroup  12970 non-null  object  \n",
      " 11  deck            12970 non-null  object  \n",
      " 12  num             12970 non-null  int32   \n",
      " 13  side            12970 non-null  object  \n",
      " 14  FamilySize      12970 non-null  int32   \n",
      " 15  MoneySpent      12970 non-null  float64 \n",
      " 16  SpendCategory   12970 non-null  category\n",
      " 17  AnySpend        12970 non-null  int32   \n",
      " 18  IsChild         12970 non-null  int32   \n",
      "dtypes: category(1), float64(7), int32(6), object(5)\n",
      "memory usage: 1.5+ MB\n"
     ]
    }
   ],
   "source": [
    "all_data.info()"
   ]
  },
  {
   "cell_type": "code",
   "execution_count": 36,
   "id": "84a0a582-98b7-485a-abe4-7ddb993ae4b7",
   "metadata": {},
   "outputs": [],
   "source": [
    "# object 또는 category 로 되어 있는 변수들을 더미변수화 한다. \n",
    "all_data = pd.get_dummies(all_data)"
   ]
  },
  {
   "cell_type": "code",
   "execution_count": 37,
   "id": "bb82daa4-9aba-44ed-9f6d-b775829df9e6",
   "metadata": {},
   "outputs": [
    {
     "data": {
      "text/html": [
       "<div>\n",
       "<style scoped>\n",
       "    .dataframe tbody tr th:only-of-type {\n",
       "        vertical-align: middle;\n",
       "    }\n",
       "\n",
       "    .dataframe tbody tr th {\n",
       "        vertical-align: top;\n",
       "    }\n",
       "\n",
       "    .dataframe thead th {\n",
       "        text-align: right;\n",
       "    }\n",
       "</style>\n",
       "<table border=\"1\" class=\"dataframe\">\n",
       "  <thead>\n",
       "    <tr style=\"text-align: right;\">\n",
       "      <th></th>\n",
       "      <th>CryoSleep</th>\n",
       "      <th>Age</th>\n",
       "      <th>VIP</th>\n",
       "      <th>RoomService</th>\n",
       "      <th>FoodCourt</th>\n",
       "      <th>ShoppingMall</th>\n",
       "      <th>Spa</th>\n",
       "      <th>VRDeck</th>\n",
       "      <th>num</th>\n",
       "      <th>FamilySize</th>\n",
       "      <th>MoneySpent</th>\n",
       "      <th>AnySpend</th>\n",
       "      <th>IsChild</th>\n",
       "      <th>HomePlanet_Earth</th>\n",
       "      <th>HomePlanet_Europa</th>\n",
       "      <th>HomePlanet_Mars</th>\n",
       "      <th>Destination_55 Cancri e</th>\n",
       "      <th>Destination_PSO J318.5-22</th>\n",
       "      <th>Destination_TRAPPIST-1e</th>\n",
       "      <th>PassengerGroup_1</th>\n",
       "      <th>PassengerGroup_2</th>\n",
       "      <th>PassengerGroup_3</th>\n",
       "      <th>PassengerGroup_4</th>\n",
       "      <th>PassengerGroup_5</th>\n",
       "      <th>PassengerGroup_6</th>\n",
       "      <th>PassengerGroup_7</th>\n",
       "      <th>PassengerGroup_8</th>\n",
       "      <th>deck_A</th>\n",
       "      <th>deck_B</th>\n",
       "      <th>deck_C</th>\n",
       "      <th>deck_D</th>\n",
       "      <th>deck_E</th>\n",
       "      <th>deck_F</th>\n",
       "      <th>deck_G</th>\n",
       "      <th>deck_T</th>\n",
       "      <th>side_P</th>\n",
       "      <th>side_S</th>\n",
       "      <th>SpendCategory_Big_Spender</th>\n",
       "      <th>SpendCategory_Median_1200</th>\n",
       "      <th>SpendCategory_Under_800</th>\n",
       "      <th>SpendCategory_Upper_2700</th>\n",
       "      <th>SpendCategory_Zero_Spend</th>\n",
       "    </tr>\n",
       "  </thead>\n",
       "  <tbody>\n",
       "    <tr>\n",
       "      <th>0</th>\n",
       "      <td>0</td>\n",
       "      <td>39.0</td>\n",
       "      <td>0</td>\n",
       "      <td>0.0</td>\n",
       "      <td>0.0</td>\n",
       "      <td>0.0</td>\n",
       "      <td>0.0</td>\n",
       "      <td>0.0</td>\n",
       "      <td>0</td>\n",
       "      <td>3</td>\n",
       "      <td>0.0</td>\n",
       "      <td>0</td>\n",
       "      <td>0</td>\n",
       "      <td>0</td>\n",
       "      <td>1</td>\n",
       "      <td>0</td>\n",
       "      <td>0</td>\n",
       "      <td>0</td>\n",
       "      <td>1</td>\n",
       "      <td>1</td>\n",
       "      <td>0</td>\n",
       "      <td>0</td>\n",
       "      <td>0</td>\n",
       "      <td>0</td>\n",
       "      <td>0</td>\n",
       "      <td>0</td>\n",
       "      <td>0</td>\n",
       "      <td>0</td>\n",
       "      <td>1</td>\n",
       "      <td>0</td>\n",
       "      <td>0</td>\n",
       "      <td>0</td>\n",
       "      <td>0</td>\n",
       "      <td>0</td>\n",
       "      <td>0</td>\n",
       "      <td>1</td>\n",
       "      <td>0</td>\n",
       "      <td>0</td>\n",
       "      <td>0</td>\n",
       "      <td>0</td>\n",
       "      <td>0</td>\n",
       "      <td>1</td>\n",
       "    </tr>\n",
       "    <tr>\n",
       "      <th>1</th>\n",
       "      <td>0</td>\n",
       "      <td>24.0</td>\n",
       "      <td>0</td>\n",
       "      <td>109.0</td>\n",
       "      <td>9.0</td>\n",
       "      <td>25.0</td>\n",
       "      <td>549.0</td>\n",
       "      <td>44.0</td>\n",
       "      <td>0</td>\n",
       "      <td>4</td>\n",
       "      <td>736.0</td>\n",
       "      <td>1</td>\n",
       "      <td>0</td>\n",
       "      <td>1</td>\n",
       "      <td>0</td>\n",
       "      <td>0</td>\n",
       "      <td>0</td>\n",
       "      <td>0</td>\n",
       "      <td>1</td>\n",
       "      <td>1</td>\n",
       "      <td>0</td>\n",
       "      <td>0</td>\n",
       "      <td>0</td>\n",
       "      <td>0</td>\n",
       "      <td>0</td>\n",
       "      <td>0</td>\n",
       "      <td>0</td>\n",
       "      <td>0</td>\n",
       "      <td>0</td>\n",
       "      <td>0</td>\n",
       "      <td>0</td>\n",
       "      <td>0</td>\n",
       "      <td>1</td>\n",
       "      <td>0</td>\n",
       "      <td>0</td>\n",
       "      <td>0</td>\n",
       "      <td>1</td>\n",
       "      <td>0</td>\n",
       "      <td>0</td>\n",
       "      <td>1</td>\n",
       "      <td>0</td>\n",
       "      <td>0</td>\n",
       "    </tr>\n",
       "    <tr>\n",
       "      <th>2</th>\n",
       "      <td>0</td>\n",
       "      <td>58.0</td>\n",
       "      <td>1</td>\n",
       "      <td>43.0</td>\n",
       "      <td>3576.0</td>\n",
       "      <td>0.0</td>\n",
       "      <td>6715.0</td>\n",
       "      <td>49.0</td>\n",
       "      <td>0</td>\n",
       "      <td>7</td>\n",
       "      <td>10383.0</td>\n",
       "      <td>1</td>\n",
       "      <td>0</td>\n",
       "      <td>0</td>\n",
       "      <td>1</td>\n",
       "      <td>0</td>\n",
       "      <td>0</td>\n",
       "      <td>0</td>\n",
       "      <td>1</td>\n",
       "      <td>1</td>\n",
       "      <td>0</td>\n",
       "      <td>0</td>\n",
       "      <td>0</td>\n",
       "      <td>0</td>\n",
       "      <td>0</td>\n",
       "      <td>0</td>\n",
       "      <td>0</td>\n",
       "      <td>1</td>\n",
       "      <td>0</td>\n",
       "      <td>0</td>\n",
       "      <td>0</td>\n",
       "      <td>0</td>\n",
       "      <td>0</td>\n",
       "      <td>0</td>\n",
       "      <td>0</td>\n",
       "      <td>0</td>\n",
       "      <td>1</td>\n",
       "      <td>1</td>\n",
       "      <td>0</td>\n",
       "      <td>0</td>\n",
       "      <td>0</td>\n",
       "      <td>0</td>\n",
       "    </tr>\n",
       "    <tr>\n",
       "      <th>3</th>\n",
       "      <td>0</td>\n",
       "      <td>33.0</td>\n",
       "      <td>0</td>\n",
       "      <td>0.0</td>\n",
       "      <td>1283.0</td>\n",
       "      <td>371.0</td>\n",
       "      <td>3329.0</td>\n",
       "      <td>193.0</td>\n",
       "      <td>0</td>\n",
       "      <td>7</td>\n",
       "      <td>5176.0</td>\n",
       "      <td>1</td>\n",
       "      <td>0</td>\n",
       "      <td>0</td>\n",
       "      <td>1</td>\n",
       "      <td>0</td>\n",
       "      <td>0</td>\n",
       "      <td>0</td>\n",
       "      <td>1</td>\n",
       "      <td>0</td>\n",
       "      <td>1</td>\n",
       "      <td>0</td>\n",
       "      <td>0</td>\n",
       "      <td>0</td>\n",
       "      <td>0</td>\n",
       "      <td>0</td>\n",
       "      <td>0</td>\n",
       "      <td>1</td>\n",
       "      <td>0</td>\n",
       "      <td>0</td>\n",
       "      <td>0</td>\n",
       "      <td>0</td>\n",
       "      <td>0</td>\n",
       "      <td>0</td>\n",
       "      <td>0</td>\n",
       "      <td>0</td>\n",
       "      <td>1</td>\n",
       "      <td>1</td>\n",
       "      <td>0</td>\n",
       "      <td>0</td>\n",
       "      <td>0</td>\n",
       "      <td>0</td>\n",
       "    </tr>\n",
       "    <tr>\n",
       "      <th>4</th>\n",
       "      <td>0</td>\n",
       "      <td>16.0</td>\n",
       "      <td>0</td>\n",
       "      <td>303.0</td>\n",
       "      <td>70.0</td>\n",
       "      <td>151.0</td>\n",
       "      <td>565.0</td>\n",
       "      <td>2.0</td>\n",
       "      <td>1</td>\n",
       "      <td>9</td>\n",
       "      <td>1091.0</td>\n",
       "      <td>1</td>\n",
       "      <td>0</td>\n",
       "      <td>1</td>\n",
       "      <td>0</td>\n",
       "      <td>0</td>\n",
       "      <td>0</td>\n",
       "      <td>0</td>\n",
       "      <td>1</td>\n",
       "      <td>1</td>\n",
       "      <td>0</td>\n",
       "      <td>0</td>\n",
       "      <td>0</td>\n",
       "      <td>0</td>\n",
       "      <td>0</td>\n",
       "      <td>0</td>\n",
       "      <td>0</td>\n",
       "      <td>0</td>\n",
       "      <td>0</td>\n",
       "      <td>0</td>\n",
       "      <td>0</td>\n",
       "      <td>0</td>\n",
       "      <td>1</td>\n",
       "      <td>0</td>\n",
       "      <td>0</td>\n",
       "      <td>0</td>\n",
       "      <td>1</td>\n",
       "      <td>0</td>\n",
       "      <td>1</td>\n",
       "      <td>0</td>\n",
       "      <td>0</td>\n",
       "      <td>0</td>\n",
       "    </tr>\n",
       "  </tbody>\n",
       "</table>\n",
       "</div>"
      ],
      "text/plain": [
       "   CryoSleep   Age  VIP  RoomService  FoodCourt  ShoppingMall     Spa  VRDeck  \\\n",
       "0          0  39.0    0          0.0        0.0           0.0     0.0     0.0   \n",
       "1          0  24.0    0        109.0        9.0          25.0   549.0    44.0   \n",
       "2          0  58.0    1         43.0     3576.0           0.0  6715.0    49.0   \n",
       "3          0  33.0    0          0.0     1283.0         371.0  3329.0   193.0   \n",
       "4          0  16.0    0        303.0       70.0         151.0   565.0     2.0   \n",
       "\n",
       "   num  FamilySize  MoneySpent  AnySpend  IsChild  HomePlanet_Earth  \\\n",
       "0    0           3         0.0         0        0                 0   \n",
       "1    0           4       736.0         1        0                 1   \n",
       "2    0           7     10383.0         1        0                 0   \n",
       "3    0           7      5176.0         1        0                 0   \n",
       "4    1           9      1091.0         1        0                 1   \n",
       "\n",
       "   HomePlanet_Europa  HomePlanet_Mars  Destination_55 Cancri e  \\\n",
       "0                  1                0                        0   \n",
       "1                  0                0                        0   \n",
       "2                  1                0                        0   \n",
       "3                  1                0                        0   \n",
       "4                  0                0                        0   \n",
       "\n",
       "   Destination_PSO J318.5-22  Destination_TRAPPIST-1e  PassengerGroup_1  \\\n",
       "0                          0                        1                 1   \n",
       "1                          0                        1                 1   \n",
       "2                          0                        1                 1   \n",
       "3                          0                        1                 0   \n",
       "4                          0                        1                 1   \n",
       "\n",
       "   PassengerGroup_2  PassengerGroup_3  PassengerGroup_4  PassengerGroup_5  \\\n",
       "0                 0                 0                 0                 0   \n",
       "1                 0                 0                 0                 0   \n",
       "2                 0                 0                 0                 0   \n",
       "3                 1                 0                 0                 0   \n",
       "4                 0                 0                 0                 0   \n",
       "\n",
       "   PassengerGroup_6  PassengerGroup_7  PassengerGroup_8  deck_A  deck_B  \\\n",
       "0                 0                 0                 0       0       1   \n",
       "1                 0                 0                 0       0       0   \n",
       "2                 0                 0                 0       1       0   \n",
       "3                 0                 0                 0       1       0   \n",
       "4                 0                 0                 0       0       0   \n",
       "\n",
       "   deck_C  deck_D  deck_E  deck_F  deck_G  deck_T  side_P  side_S  \\\n",
       "0       0       0       0       0       0       0       1       0   \n",
       "1       0       0       0       1       0       0       0       1   \n",
       "2       0       0       0       0       0       0       0       1   \n",
       "3       0       0       0       0       0       0       0       1   \n",
       "4       0       0       0       1       0       0       0       1   \n",
       "\n",
       "   SpendCategory_Big_Spender  SpendCategory_Median_1200  \\\n",
       "0                          0                          0   \n",
       "1                          0                          0   \n",
       "2                          1                          0   \n",
       "3                          1                          0   \n",
       "4                          0                          1   \n",
       "\n",
       "   SpendCategory_Under_800  SpendCategory_Upper_2700  SpendCategory_Zero_Spend  \n",
       "0                        0                         0                         1  \n",
       "1                        1                         0                         0  \n",
       "2                        0                         0                         0  \n",
       "3                        0                         0                         0  \n",
       "4                        0                         0                         0  "
      ]
     },
     "execution_count": 37,
     "metadata": {},
     "output_type": "execute_result"
    }
   ],
   "source": [
    "all_data.head()"
   ]
  },
  {
   "cell_type": "code",
   "execution_count": 38,
   "id": "12cc1c0c-65d9-4e45-aab2-915b8b82e528",
   "metadata": {},
   "outputs": [],
   "source": [
    "# 다시 훈련 데이터와 테스트 데이터를 나눈다. \n",
    "train_data = all_data[:len(train_data)]\n",
    "test_data = all_data[len(train_data):]"
   ]
  },
  {
   "cell_type": "markdown",
   "id": "7d16175a-d766-4b5e-9dbe-1fe77e5a0450",
   "metadata": {},
   "source": [
    "### Modeling"
   ]
  },
  {
   "cell_type": "code",
   "execution_count": 39,
   "id": "aff801af-09ad-4aac-b14d-182cc643a823",
   "metadata": {},
   "outputs": [],
   "source": [
    "# load library for binary classification\n",
    "from sklearn.ensemble import RandomForestClassifier, AdaBoostClassifier, GradientBoostingClassifier, ExtraTreesClassifier, VotingClassifier # 랜덤포레스트, 에이다부스트, 그래디언트부스트, 엑스트라트리, 투표기반분류기\n",
    "from sklearn.linear_model import LogisticRegression, SGDClassifier # 로지스틱 회귀\n",
    "from sklearn.neighbors import KNeighborsClassifier  # knn\n",
    "from sklearn.tree import DecisionTreeClassifier # 결정트리\n",
    "from sklearn.svm import SVC # 서포트벡터머신\n",
    "from sklearn.model_selection import GridSearchCV, cross_val_score, StratifiedKFold, learning_curve\n",
    "from xgboost import XGBClassifier # xgboost \n",
    "\n",
    "# import evaluation indicator for classification\n",
    "from sklearn.metrics import precision_score, recall_score, f1_score"
   ]
  },
  {
   "cell_type": "code",
   "execution_count": 40,
   "id": "5c7f05e1-aab3-4838-aa3a-2e6445dc374e",
   "metadata": {},
   "outputs": [
    {
     "name": "stdout",
     "output_type": "stream",
     "text": [
      "X_train shape is = (8693, 42)\n",
      "Y_train shape is = (8693,)\n",
      "Test shape is = (4277, 42)\n"
     ]
    }
   ],
   "source": [
    "# preparing data for training\n",
    "Y_train = transported \n",
    "X_train = train_data \n",
    "X_test = test_data\n",
    "print(f'X_train shape is = {X_train.shape}')\n",
    "print(f'Y_train shape is = {Y_train.shape}')\n",
    "print(f'Test shape is = {X_test.shape}')"
   ]
  },
  {
   "cell_type": "code",
   "execution_count": 41,
   "id": "e45baeb4-6f72-4183-a37c-b51c531a5ddb",
   "metadata": {},
   "outputs": [],
   "source": [
    "# Cross validate model with KFold stratified cross val\n",
    "kfold = StratifiedKFold(n_splits=12) # 12개로 교차검증 수행"
   ]
  },
  {
   "cell_type": "code",
   "execution_count": 42,
   "id": "1fe3ab50-2a91-48da-bff7-764326084813",
   "metadata": {},
   "outputs": [],
   "source": [
    "def plot_learning_curve(estimator, title, X, y, ylim=None, cv=None, n_jobs=-1, train_sizes = np.linspace(.1,1.0,5)):\n",
    "    '''Generate a simple plot of the test and training learning curve'''\n",
    "    plt.figure()\n",
    "    plt.title(title)\n",
    "    if ylim is not None:\n",
    "        plt.ylim(*ylim)\n",
    "    plt.xlabel('Training examples')\n",
    "    plt.ylabel('Score')\n",
    "    train_sizes, train_scores, test_scores = learning_curve(estimator, X, y, cv=cv, n_jobs=n_jobs, train_sizes=train_sizes)\n",
    "    train_scores_mean = np.mean(train_scores, axis=1)\n",
    "    train_scores_std = np.std(train_scores, axis=1)\n",
    "    test_scores_mean = np.mean(test_scores, axis=1)\n",
    "    test_scores_std = np.std(test_scores, axis=1)\n",
    "    plt.grid()\n",
    "    \n",
    "    plt.fill_between(train_sizes, train_scores_mean - train_scores_std, train_scores_mean + train_scores_std, alpha=0.1, color='r')\n",
    "    plt.fill_between(train_sizes, test_scores_mean - test_scores_std, test_scores_mean + test_scores_std, alpha=0.1, color='g')\n",
    "    plt.plot(train_sizes, train_scores_mean, 'o-', color='r', label='Training score')\n",
    "    plt.plot(train_sizes, test_scores_mean, 'o-', color='g', label='Cross-validation score')\n",
    "    \n",
    "    plt.legend(loc='best')\n",
    "    return plt"
   ]
  },
  {
   "cell_type": "markdown",
   "id": "356ce250-4dfe-498d-8427-004bb9c2a2e2",
   "metadata": {},
   "source": [
    "#### **sklearn.model_selection.learning_curve**\n",
    "\n",
    "determines cross-validated training and test scores for different training set sizes\n",
    "\n",
    "A cross-validation generator splits the whole dataset k times in training and test data. Subsets of the training set with varying sizes will be used to train the estimator and a score for each training subset size and the test set will be computed. Afterwards, the scores will be averaged over all k runs for each training subset size.\n",
    "\n",
    "- train_sizes : default=np.linspace(0.1, 1.0, 5) \n",
    "    : Relative or absolute numbers of training examples that will be used to generate the learning curve. If the dtype is float, it is regarded as a fraction of the maximum size of the training set (that is determined by the selected validation method), i.e. it has to be within (0, 1]. Otherwise it is interpreted as absolute sizes of the training sets. Note that for classification the number of samples usually have to be big enough to contain at least one sample from each class.\n",
    "    \n",
    "- cv : Determines the cross-validation splitting strategy. \n",
    "    - None, to use the default 5-fold cross validation\n",
    "    - int, to specify the number of folds in a (Stratified)KFold\n",
    "\n",
    "> For int/None inputs, if the estimator is a classifier and y is either binary or multiclass, StratifiedKFold is used. In all other cases, KFold is used. These splitters are instantiated with shuffle=False so the splits will be the same across calls.\\\n",
    "\n",
    "\n",
    "returns below things\n",
    "- train_sizes : array of shape(n_unique_ticks,) : Numbers of training examples that has been used to generate the learning curve.\n",
    "- train_scores : array of shape (n_ticks, n_cv_folds) : Scores on training sets.\n",
    "- test_scores : array of shape (n_ticks, n_cv_folds) : Scores on test set."
   ]
  },
  {
   "cell_type": "markdown",
   "id": "0a7c4999-8203-4cf4-bb4e-466af0c965e4",
   "metadata": {},
   "source": [
    "#### Matplotlib 그래프 영역 채우기\n",
    "그래프의 특정 영역을 색상으로 채워서 강조할 수 있다.\n",
    "\n",
    "- fill_between() : 두 수평 방향의 곡선 사이를 채운다.\n",
    "- fill_betweenx() : 두 수직 방향의 곡선 사이를 채운다.\n",
    "- fill() : 다각형 영역을 채운다."
   ]
  },
  {
   "cell_type": "code",
   "execution_count": 43,
   "id": "01f45af4-7c61-49da-be32-d3b79ca828d5",
   "metadata": {},
   "outputs": [
    {
     "name": "stdout",
     "output_type": "stream",
     "text": [
      "[18:13:15] WARNING: ..\\src\\learner.cc:1115: Starting in XGBoost 1.3.0, the default evaluation metric used with the objective 'binary:logistic' was changed from 'error' to 'logloss'. Explicitly set eval_metric if you'd like to restore the old behavior.\n",
      "[18:13:15] WARNING: ..\\src\\learner.cc:1115: Starting in XGBoost 1.3.0, the default evaluation metric used with the objective 'binary:logistic' was changed from 'error' to 'logloss'. Explicitly set eval_metric if you'd like to restore the old behavior.\n",
      "[18:13:16] WARNING: ..\\src\\learner.cc:1115: Starting in XGBoost 1.3.0, the default evaluation metric used with the objective 'binary:logistic' was changed from 'error' to 'logloss'. Explicitly set eval_metric if you'd like to restore the old behavior.\n",
      "[18:13:16] WARNING: ..\\src\\learner.cc:1115: Starting in XGBoost 1.3.0, the default evaluation metric used with the objective 'binary:logistic' was changed from 'error' to 'logloss'. Explicitly set eval_metric if you'd like to restore the old behavior.\n",
      "[18:13:17] WARNING: ..\\src\\learner.cc:1115: Starting in XGBoost 1.3.0, the default evaluation metric used with the objective 'binary:logistic' was changed from 'error' to 'logloss'. Explicitly set eval_metric if you'd like to restore the old behavior.\n",
      "[18:13:17] WARNING: ..\\src\\learner.cc:1115: Starting in XGBoost 1.3.0, the default evaluation metric used with the objective 'binary:logistic' was changed from 'error' to 'logloss'. Explicitly set eval_metric if you'd like to restore the old behavior.\n",
      "[18:13:18] WARNING: ..\\src\\learner.cc:1115: Starting in XGBoost 1.3.0, the default evaluation metric used with the objective 'binary:logistic' was changed from 'error' to 'logloss'. Explicitly set eval_metric if you'd like to restore the old behavior.\n",
      "[18:13:18] WARNING: ..\\src\\learner.cc:1115: Starting in XGBoost 1.3.0, the default evaluation metric used with the objective 'binary:logistic' was changed from 'error' to 'logloss'. Explicitly set eval_metric if you'd like to restore the old behavior.\n",
      "[18:13:19] WARNING: ..\\src\\learner.cc:1115: Starting in XGBoost 1.3.0, the default evaluation metric used with the objective 'binary:logistic' was changed from 'error' to 'logloss'. Explicitly set eval_metric if you'd like to restore the old behavior.\n",
      "[18:13:19] WARNING: ..\\src\\learner.cc:1115: Starting in XGBoost 1.3.0, the default evaluation metric used with the objective 'binary:logistic' was changed from 'error' to 'logloss'. Explicitly set eval_metric if you'd like to restore the old behavior.\n",
      "[18:13:20] WARNING: ..\\src\\learner.cc:1115: Starting in XGBoost 1.3.0, the default evaluation metric used with the objective 'binary:logistic' was changed from 'error' to 'logloss'. Explicitly set eval_metric if you'd like to restore the old behavior.\n",
      "[18:13:20] WARNING: ..\\src\\learner.cc:1115: Starting in XGBoost 1.3.0, the default evaluation metric used with the objective 'binary:logistic' was changed from 'error' to 'logloss'. Explicitly set eval_metric if you'd like to restore the old behavior.\n"
     ]
    },
    {
     "data": {
      "image/png": "[encoded data removed]",
      "text/plain": [
       "<Figure size 432x288 with 1 Axes>"
      ]
     },
     "metadata": {},
     "output_type": "display_data"
    }
   ],
   "source": [
    "# modeling step Test different algorithms\n",
    "random_state = 0\n",
    "classifiers = []\n",
    "classifiers.append(DecisionTreeClassifier(random_state=random_state))\n",
    "classifiers.append(AdaBoostClassifier(DecisionTreeClassifier(random_state=random_state),random_state=random_state,learning_rate=0.1))\n",
    "classifiers.append(RandomForestClassifier(random_state=random_state))\n",
    "classifiers.append(ExtraTreesClassifier(random_state=random_state))\n",
    "classifiers.append(GradientBoostingClassifier(random_state=random_state))\n",
    "classifiers.append(KNeighborsClassifier())\n",
    "classifiers.append(LogisticRegression(random_state=random_state))\n",
    "classifiers.append(XGBClassifier(random_state=random_state))\n",
    "cv_results = []\n",
    "for classifier in classifiers:\n",
    "    cv_results.append(cross_val_score(classifier, X_train, y = Y_train, scoring = 'accuracy', cv=kfold))\n",
    "    \n",
    "cv_means = []\n",
    "cv_std = []\n",
    "for cv_result in cv_results:\n",
    "    cv_means.append(cv_result.mean())\n",
    "    cv_std.append(cv_result.std())\n",
    "    \n",
    "cv_res = pd.DataFrame({'CrossValMeans':cv_means, 'CrossValerrors':cv_std, 'Algorithm':['DecisionTree','AdaBoost','RandomForest','ExtraTrees','GradientBoosting','KNeighbors','LogisticRegression','XGBoost']})\n",
    "\n",
    "g = sns.barplot('CrossValMeans','Algorithm', data=cv_res, palette='Set3', orient='h',**{'xerr':cv_std}) # orient = 'h'/'v'\n",
    "g.set_xlabel('Mean Accuracy')\n",
    "g = g.set_title('Cross Validation scores')"
   ]
  },
  {
   "cell_type": "code",
   "execution_count": 44,
   "id": "f2cf90a8-1dfc-49ad-ba2d-dcf456109ac1",
   "metadata": {},
   "outputs": [
    {
     "data": {
      "text/html": [
       "<div>\n",
       "<style scoped>\n",
       "    .dataframe tbody tr th:only-of-type {\n",
       "        vertical-align: middle;\n",
       "    }\n",
       "\n",
       "    .dataframe tbody tr th {\n",
       "        vertical-align: top;\n",
       "    }\n",
       "\n",
       "    .dataframe thead th {\n",
       "        text-align: right;\n",
       "    }\n",
       "</style>\n",
       "<table border=\"1\" class=\"dataframe\">\n",
       "  <thead>\n",
       "    <tr style=\"text-align: right;\">\n",
       "      <th></th>\n",
       "      <th>Model</th>\n",
       "      <th>Score</th>\n",
       "      <th>Std</th>\n",
       "    </tr>\n",
       "  </thead>\n",
       "  <tbody>\n",
       "    <tr>\n",
       "      <th>2</th>\n",
       "      <td>RandomForest</td>\n",
       "      <td>0.799275</td>\n",
       "      <td>0.023514</td>\n",
       "    </tr>\n",
       "    <tr>\n",
       "      <th>4</th>\n",
       "      <td>GradientBoosting</td>\n",
       "      <td>0.796514</td>\n",
       "      <td>0.027979</td>\n",
       "    </tr>\n",
       "    <tr>\n",
       "      <th>3</th>\n",
       "      <td>ExtraTrees</td>\n",
       "      <td>0.790183</td>\n",
       "      <td>0.019303</td>\n",
       "    </tr>\n",
       "    <tr>\n",
       "      <th>6</th>\n",
       "      <td>LogisticRegression</td>\n",
       "      <td>0.785810</td>\n",
       "      <td>0.015385</td>\n",
       "    </tr>\n",
       "    <tr>\n",
       "      <th>7</th>\n",
       "      <td>XGBoost</td>\n",
       "      <td>0.772593</td>\n",
       "      <td>0.045347</td>\n",
       "    </tr>\n",
       "    <tr>\n",
       "      <th>5</th>\n",
       "      <td>KNeighbors</td>\n",
       "      <td>0.742340</td>\n",
       "      <td>0.045064</td>\n",
       "    </tr>\n",
       "    <tr>\n",
       "      <th>0</th>\n",
       "      <td>DecisionTree</td>\n",
       "      <td>0.725655</td>\n",
       "      <td>0.038652</td>\n",
       "    </tr>\n",
       "    <tr>\n",
       "      <th>1</th>\n",
       "      <td>AdaBoost</td>\n",
       "      <td>0.725541</td>\n",
       "      <td>0.038236</td>\n",
       "    </tr>\n",
       "  </tbody>\n",
       "</table>\n",
       "</div>"
      ],
      "text/plain": [
       "                Model     Score       Std\n",
       "2        RandomForest  0.799275  0.023514\n",
       "4    GradientBoosting  0.796514  0.027979\n",
       "3          ExtraTrees  0.790183  0.019303\n",
       "6  LogisticRegression  0.785810  0.015385\n",
       "7             XGBoost  0.772593  0.045347\n",
       "5          KNeighbors  0.742340  0.045064\n",
       "0        DecisionTree  0.725655  0.038652\n",
       "1            AdaBoost  0.725541  0.038236"
      ]
     },
     "execution_count": 44,
     "metadata": {},
     "output_type": "execute_result"
    }
   ],
   "source": [
    "# Score 로 모델들을 정렬\n",
    "results = pd.DataFrame({'Model':['DecisionTree','AdaBoost','RandomForest','ExtraTrees','GradientBoosting','KNeighbors','LogisticRegression','XGBoost'],\n",
    "                       'Score':cv_means,\n",
    "                       'Std':cv_std})\n",
    "\n",
    "results.sort_values('Score', ascending=False)"
   ]
  },
  {
   "cell_type": "markdown",
   "id": "252470f5-a38d-423b-940b-5c24d3e3053d",
   "metadata": {},
   "source": [
    "#### Model tunning"
   ]
  },
  {
   "cell_type": "code",
   "execution_count": 45,
   "id": "92758bf4-0aa9-478d-823d-50fa5e4de2ba",
   "metadata": {},
   "outputs": [
    {
     "name": "stdout",
     "output_type": "stream",
     "text": [
      "Fitting 5 folds for each of 1 candidates, totalling 5 fits\n",
      "The Best Model Parameters is :\n",
      "GradientBoostingClassifier(learning_rate=0.01, max_depth=14, max_features=0.05,\n",
      "                           min_samples_leaf=25, n_estimators=600,\n",
      "                           random_state=0)\n",
      "With Cross Validation Score = 0.7997273673546229\n"
     ]
    }
   ],
   "source": [
    "# 1. gradient boosting tunning\n",
    "GBC = GradientBoostingClassifier(random_state=random_state)\n",
    "\n",
    "# gb_param_grid = {'loss' : ['deviance'], 'n_estimators':[600,800], 'learning_rate':[0.01],'max_depth':[14,16],'min_samples_leaf':[20,25],'max_features':[0.03,0.05,0.1]\n",
    "#}\n",
    "\n",
    "gb_param_grid = {\n",
    "    'learning_rate':[0.01],\n",
    "    'max_depth':[14],\n",
    "    'min_samples_leaf':[25],\n",
    "    'max_features':[0.05],\n",
    "    'n_estimators':[600]\n",
    "}\n",
    "\n",
    "gsGBC = GridSearchCV(GBC, param_grid=gb_param_grid, cv=5, scoring='accuracy', verbose=1)\n",
    "\n",
    "gsGBC.fit(X_train,Y_train)\n",
    "\n",
    "GBC_best = gsGBC.best_estimator_\n",
    "\n",
    "print('The Best Model Parameters is :')\n",
    "print(GBC_best)\n",
    "print(f'With Cross Validation Score = {gsGBC.best_score_}')"
   ]
  },
  {
   "cell_type": "code",
   "execution_count": 46,
   "id": "666f059b-6891-4e61-bedc-1ec489fdd687",
   "metadata": {},
   "outputs": [
    {
     "name": "stdout",
     "output_type": "stream",
     "text": [
      "With Cross Validation Score = 0.7997273673546229\n"
     ]
    }
   ],
   "source": [
    "print(f'With Cross Validation Score = {gsGBC.best_score_}')"
   ]
  },
  {
   "cell_type": "markdown",
   "id": "0394b8fe-dcdd-43e0-b392-06b5c5c3fafd",
   "metadata": {},
   "source": [
    "#### **tree에 관한 하이퍼파라미터**\n",
    "\n",
    "- max_depth(default=3)\n",
    "- min_samples_split(default=2) : 노드를 분할하기 위한 최소한의 샘플 데이터 수\n",
    "    - 값이 작을수록 과적합 가능성 증가\n",
    "- min_samples_leaf(default=1) : 리프노드가 되기 위한 최소한의 샘플 데이터 수 \n",
    "    - 값이 작을수록 과적합 가능성 증가\n",
    "    - 불균형 데이터인 경우 특정 클래스의 데이터가 적을 수 있으므로 이때는 작은 값으로 설정해줘야 함.\n",
    "- max_features(default=None) : 최적 분할을 위해 고려하는 피처의 최대 개수\n",
    "    - int 형 : 피처 갯수\n",
    "    - float 형 : 전체 피처 갯수의 비율로 사용\n",
    "    - sqrt / auto : 전체 피처 중 sqrt(피처수) 만큼 사용\n",
    "    - log2 : 전체 피처 중 log2(피처수) 만큼 사용\n",
    "- max_leaf_nodes(default=None) : 리프노드의 최대 갯수"
   ]
  },
  {
   "cell_type": "markdown",
   "id": "80cd8f83-97b4-40f7-af4e-334c160fb6c5",
   "metadata": {
    "tags": []
   },
   "source": [
    "#### **Boosting에 대한 하이퍼파라미터**\n",
    "\n",
    "- loss(default='deviance') : 손실함수 지정\n",
    "- n_estimators(default=100) : 사용할 트리의 갯수를 지정\n",
    "- learning_rate(default=0.1) : 학습률(0~1)\n",
    "    - 낮은 값일 수록 에측 성능이 높아지나 수행 시간이 매우 오래 걸림\n",
    "- subsample(default=1) : 개별 트리가 학습에 사용하는 데이터 샘플링의 비율(0~1)\n",
    "    - 해당 값을 적절히 조정하면 각 트리간의 상관도를 줄일 수 있다."
   ]
  },
  {
   "cell_type": "code",
   "execution_count": 47,
   "id": "7d925129-ecc9-4696-afb0-2798aa2152c6",
   "metadata": {},
   "outputs": [
    {
     "data": {
      "text/plain": [
       "<module 'matplotlib.pyplot' from 'C:\\\\ProgramData\\\\Anaconda3\\\\lib\\\\site-packages\\\\matplotlib\\\\pyplot.py'>"
      ]
     },
     "execution_count": 47,
     "metadata": {},
     "output_type": "execute_result"
    },
    {
     "data": {
      "image/png": "[encoded data removed]",
      "text/plain": [
       "<Figure size 432x288 with 1 Axes>"
      ]
     },
     "metadata": {},
     "output_type": "display_data"
    }
   ],
   "source": [
    "plot_learning_curve(GBC_best, 'Gradient Boosting', X_train, Y_train)"
   ]
  },
  {
   "cell_type": "code",
   "execution_count": 48,
   "id": "1ce5ee17-f640-4f0e-bfe7-ee7b2a5d43d7",
   "metadata": {},
   "outputs": [
    {
     "name": "stdout",
     "output_type": "stream",
     "text": [
      "Fitting 5 folds for each of 1 candidates, totalling 5 fits\n",
      "The best model parameter is: \n",
      "RandomForestClassifier(bootstrap=False, max_depth=16, max_features=0.2,\n",
      "                       min_samples_leaf=15, min_samples_split=5,\n",
      "                       n_estimators=560, random_state=0)\n",
      "With cross validation score = 0.7999572522599724\n"
     ]
    }
   ],
   "source": [
    "# 2. random forest tunning\n",
    "RFC = RandomForestClassifier(random_state=random_state)\n",
    "\n",
    "# rf_param_grid = {'max_depth':[16],\n",
    "#     'max_features':[0.2],\n",
    "#     'min_samples_split':[5],\n",
    "#     'min_samples_leaf':[15],\n",
    "#     'bootstrap':[True,False],\n",
    "#     'n_estimators':[550,600],\n",
    "#     'criterion':['gini']\n",
    "# }\n",
    "\n",
    "rf_param_grid = {'max_depth':[16],\n",
    "                'max_features':[0.2],\n",
    "                'min_samples_leaf':[15],\n",
    "                'min_samples_split':[5],\n",
    "                'bootstrap':[False],\n",
    "                'n_estimators':[560],\n",
    "                'criterion':['gini']}\n",
    "\n",
    "gsRFC = GridSearchCV(RFC, param_grid = rf_param_grid, cv=5, scoring = 'accuracy', verbose = 1)\n",
    "\n",
    "gsRFC.fit(X_train,Y_train)\n",
    "\n",
    "RFC_best = gsRFC.best_estimator_\n",
    "\n",
    "print('The best model parameter is: ')\n",
    "print(RFC_best)\n",
    "print(f'With cross validation score = {gsRFC.best_score_}')"
   ]
  },
  {
   "cell_type": "code",
   "execution_count": 49,
   "id": "ae7a0fc8-87da-499b-86c0-246fccf23201",
   "metadata": {},
   "outputs": [
    {
     "data": {
      "text/plain": [
       "<module 'matplotlib.pyplot' from 'C:\\\\ProgramData\\\\Anaconda3\\\\lib\\\\site-packages\\\\matplotlib\\\\pyplot.py'>"
      ]
     },
     "execution_count": 49,
     "metadata": {},
     "output_type": "execute_result"
    },
    {
     "data": {
      "image/png": "[encoded data removed]",
      "text/plain": [
       "<Figure size 432x288 with 1 Axes>"
      ]
     },
     "metadata": {},
     "output_type": "display_data"
    }
   ],
   "source": [
    "plot_learning_curve(RFC_best, 'Random Forest', X_train, Y_train)"
   ]
  },
  {
   "cell_type": "code",
   "execution_count": 50,
   "id": "1d1855eb-6a1b-4df5-9027-6aab86163594",
   "metadata": {},
   "outputs": [
    {
     "name": "stdout",
     "output_type": "stream",
     "text": [
      "Fitting 5 folds for each of 1 candidates, totalling 5 fits\n",
      "The Best model parameter is:\n",
      "ExtraTreesClassifier(max_depth=18, max_features=0.5, min_samples_leaf=15,\n",
      "                     min_samples_split=5, n_estimators=550, random_state=0)\n",
      "With Cross validation score = 0.7967352902445819\n"
     ]
    }
   ],
   "source": [
    "# 3. extra trees tunning\n",
    "\n",
    "ExtC = ExtraTreesClassifier(random_state=random_state)\n",
    "\n",
    "ex_param_grid = {'max_depth':[18],\n",
    "                'max_features':[0.5],\n",
    "                'min_samples_split':[5],\n",
    "                'min_samples_leaf':[15],\n",
    "                'bootstrap':[False], # 당연히 extratrees는 bootstrap을 사용하지 않는다.\n",
    "                'n_estimators':[550],\n",
    "                'criterion':['gini'],}\n",
    "\n",
    "gsExtC = GridSearchCV(ExtC, param_grid=ex_param_grid, cv=5, scoring='accuracy', verbose=1)\n",
    "\n",
    "gsExtC.fit(X_train,Y_train)\n",
    "\n",
    "ExtC_best = gsExtC.best_estimator_\n",
    "\n",
    "print('The Best model parameter is:')\n",
    "print(ExtC_best)\n",
    "print(f'With Cross validation score = {gsExtC.best_score_}')"
   ]
  },
  {
   "cell_type": "code",
   "execution_count": 51,
   "id": "c509f56a-1a4a-4e83-b835-c4e9fea947eb",
   "metadata": {},
   "outputs": [
    {
     "data": {
      "text/plain": [
       "<module 'matplotlib.pyplot' from 'C:\\\\ProgramData\\\\Anaconda3\\\\lib\\\\site-packages\\\\matplotlib\\\\pyplot.py'>"
      ]
     },
     "execution_count": 51,
     "metadata": {},
     "output_type": "execute_result"
    },
    {
     "data": {
      "image/png": "[encoded data removed]",
      "text/plain": [
       "<Figure size 432x288 with 1 Axes>"
      ]
     },
     "metadata": {},
     "output_type": "display_data"
    }
   ],
   "source": [
    "plot_learning_curve(ExtC_best, 'Extra Trees', X_train, Y_train)"
   ]
  },
  {
   "cell_type": "code",
   "execution_count": 52,
   "id": "5c78e146-6e65-4b38-9d6f-248faefe1623",
   "metadata": {},
   "outputs": [
    {
     "name": "stdout",
     "output_type": "stream",
     "text": [
      "Fitting 5 folds for each of 1 candidates, totalling 5 fits\n",
      "The best model parameter is: \n",
      "LogisticRegression(C=0.005, max_iter=600, random_state=0)\n",
      "With Cross validation score = 0.7889115935708987\n"
     ]
    }
   ],
   "source": [
    "# logistic regression tunning\n",
    "\n",
    "LogReg = LogisticRegression(random_state=random_state)\n",
    "\n",
    "log_reg_param_grid = {\n",
    "    'C':[0.005],\n",
    "    'max_iter' : [600]\n",
    "}\n",
    "\n",
    "gsLogReg = GridSearchCV(LogReg, param_grid = log_reg_param_grid, cv=5, scoring='accuracy', verbose=1)\n",
    "\n",
    "gsLogReg.fit(X_train,Y_train)\n",
    "\n",
    "LogReg_best = gsLogReg.best_estimator_\n",
    "\n",
    "print('The best model parameter is: ')\n",
    "print(LogReg_best)\n",
    "print(f'With Cross validation score = {gsLogReg.best_score_}')"
   ]
  },
  {
   "cell_type": "code",
   "execution_count": 53,
   "id": "57cc758b-3254-494f-aada-0c37d9f44b55",
   "metadata": {},
   "outputs": [
    {
     "data": {
      "text/plain": [
       "<module 'matplotlib.pyplot' from 'C:\\\\ProgramData\\\\Anaconda3\\\\lib\\\\site-packages\\\\matplotlib\\\\pyplot.py'>"
      ]
     },
     "execution_count": 53,
     "metadata": {},
     "output_type": "execute_result"
    },
    {
     "data": {
      "image/png": "[encoded data removed]",
      "text/plain": [
       "<Figure size 432x288 with 1 Axes>"
      ]
     },
     "metadata": {},
     "output_type": "display_data"
    }
   ],
   "source": [
    "plot_learning_curve(LogReg_best, 'Logistic Regression', X_train, Y_train)"
   ]
  }
 ],
 "metadata": {
  "kernelspec": {
   "display_name": "Python 3 (ipykernel)",
   "language": "python",
   "name": "python3"
  },
  "language_info": {
   "codemirror_mode": {
    "name": "ipython",
    "version": 3
   },
   "file_extension": ".py",
   "mimetype": "text/x-python",
   "name": "python",
   "nbconvert_exporter": "python",
   "pygments_lexer": "ipython3",
   "version": "3.9.12"
  }
 },
 "nbformat": 4,
 "nbformat_minor": 5
}
